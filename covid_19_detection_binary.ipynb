{
  "nbformat": 4,
  "nbformat_minor": 0,
  "metadata": {
    "colab": {
      "name": "covid_19_detection_binary.ipynb",
      "provenance": [],
      "authorship_tag": "ABX9TyO1f7t2QwnpU5swDa3zpCZF",
      "include_colab_link": true
    },
    "kernelspec": {
      "name": "python3",
      "display_name": "Python 3"
    },
    "accelerator": "GPU"
  },
  "cells": [
    {
      "cell_type": "markdown",
      "metadata": {
        "id": "view-in-github",
        "colab_type": "text"
      },
      "source": [
        "<a href=\"https://colab.research.google.com/github/kcbharat100/covid-19-detection-using-x-rays/blob/master/covid_19_detection_binary.ipynb\" target=\"_parent\"><img src=\"https://colab.research.google.com/assets/colab-badge.svg\" alt=\"Open In Colab\"/></a>"
      ]
    },
    {
      "cell_type": "code",
      "metadata": {
        "id": "lQA9ew7ZAOgJ",
        "colab_type": "code",
        "colab": {
          "base_uri": "https://localhost:8080/",
          "height": 160
        },
        "outputId": "2dc54437-469f-4c6c-b3ac-eeb42b3976e2"
      },
      "source": [
        "# ACCESSING DATASET FROM GITHUB REPO:\n",
        "\n",
        "!git clone https://github.com/kcbharat100/covid-19-detection-using-x-rays.git"
      ],
      "execution_count": null,
      "outputs": [
        {
          "output_type": "stream",
          "text": [
            "Cloning into 'covid-19-detection-using-x-rays'...\n",
            "remote: Enumerating objects: 3, done.\u001b[K\n",
            "remote: Counting objects: 100% (3/3), done.\u001b[K\n",
            "remote: Compressing objects: 100% (3/3), done.\u001b[K\n",
            "remote: Total 3149 (delta 0), reused 0 (delta 0), pack-reused 3146\u001b[K\n",
            "Receiving objects: 100% (3149/3149), 894.19 MiB | 33.92 MiB/s, done.\n",
            "Resolving deltas: 100% (31/31), done.\n",
            "Checking out files: 100% (1914/1914), done.\n"
          ],
          "name": "stdout"
        }
      ]
    },
    {
      "cell_type": "code",
      "metadata": {
        "id": "j_Pl7FXXDsi_",
        "colab_type": "code",
        "colab": {
          "base_uri": "https://localhost:8080/",
          "height": 107
        },
        "outputId": "a5831b36-f652-4c23-d0d1-34e2b3040413"
      },
      "source": [
        "#PREPARING BALANCED DATASET\n",
        "# Since there are 206 covid images, we are going to use 206 normal images \n",
        "\n",
        "import os\n",
        "import shutil\n",
        "import random\n",
        "\n",
        "random.seed(1234)\n",
        "       \n",
        "def get_file_list(input_dir):\n",
        "    return [file for file in os.listdir(input_dir) if os.path.isfile(os.path.join(input_dir, file))]\n",
        "\n",
        "def get_random_files(file_list, N):\n",
        "    return random.sample(file_list, N)\n",
        "\n",
        "def copy_files(random_files, input_dir, output_dir):\n",
        "    for file in random_files:\n",
        "        shutil.copy(os.path.join(input_dir, file), output_dir)\n",
        "\n",
        "def select_copy_randomly(input_dir, output_dir, N):\n",
        "    file_list = get_file_list(input_dir)\n",
        "    random_files = get_random_files(file_list, N)\n",
        "    copy_files(random_files, input_dir, output_dir)\n",
        "\n",
        "def copy_directory_files(input_dir, output_dir):\n",
        "    files = get_file_list(input_dir)\n",
        "    copy_files(files, input_dir, output_dir)\n",
        "\n",
        "def file_count(dir):\n",
        "  path, dirs, files = next(os.walk(dir))\n",
        "  return len(files)\n",
        "\n",
        "input_dir_normal = 'covid-19-detection-using-x-rays/dataset_binary/normal'\n",
        "input_dir_covid = 'covid-19-detection-using-x-rays/dataset_binary/covid'\n",
        "output_dir_normal = 'dataset/normal'\n",
        "output_dir_covid = 'dataset/covid'\n",
        "\n",
        "if not os.path.exists(output_dir_normal):\n",
        "    os.makedirs(output_dir_normal)\n",
        "if not os.path.exists(output_dir_covid):\n",
        "    os.makedirs(output_dir_covid)\n",
        "    \n",
        "#select and copy randomly 206 images from github dataset to new directory- dataset\n",
        "select_copy_randomly(input_dir_normal, output_dir_normal, 206)\n",
        "print(\"Normal files count:\")\n",
        "print(str(file_count(output_dir_normal)))\n",
        "\n",
        "#copy all 206 images from imported github dataset to new directory - dataset\n",
        "copy_directory_files(input_dir_covid, output_dir_covid )\n",
        "print(\"Covid files count:\")\n",
        "print(str(file_count(output_dir_covid)))\n",
        "print('Done!')"
      ],
      "execution_count": null,
      "outputs": [
        {
          "output_type": "stream",
          "text": [
            "Normal files count:\n",
            "206\n",
            "Covid files count:\n",
            "206\n",
            "Done!\n"
          ],
          "name": "stdout"
        }
      ]
    },
    {
      "cell_type": "code",
      "metadata": {
        "id": "mak8naGrAlV3",
        "colab_type": "code",
        "colab": {
          "base_uri": "https://localhost:8080/",
          "height": 163
        },
        "outputId": "39e471a7-32fc-462d-eac7-6cca766b073d"
      },
      "source": [
        "# SPLITTING FOR TRAIN & VALIDATION SET:\n",
        "!pip install split-folders\n",
        "\n",
        "import split_folders\n",
        "\n",
        "split_folders.ratio('dataset', output=\"data\", seed=1234, ratio=(0.8, 0.19, 0.01)) # for train and val; 1% for test on mobile app\n",
        "print('\\nWait until you see \"data\" directory...')"
      ],
      "execution_count": null,
      "outputs": [
        {
          "output_type": "stream",
          "text": [
            "Collecting split-folders\n",
            "  Downloading https://files.pythonhosted.org/packages/20/67/29dda743e6d23ac1ea3d16704d8bbb48d65faf3f1b1eaf53153b3da56c56/split_folders-0.3.1-py3-none-any.whl\n",
            "Installing collected packages: split-folders\n",
            "Successfully installed split-folders-0.3.1\n"
          ],
          "name": "stdout"
        },
        {
          "output_type": "stream",
          "text": [
            "Copying files: 412 files [00:00, 891.06 files/s]"
          ],
          "name": "stderr"
        },
        {
          "output_type": "stream",
          "text": [
            "\n",
            "Wait until you see \"data\" directory...\n"
          ],
          "name": "stdout"
        },
        {
          "output_type": "stream",
          "text": [
            "\n"
          ],
          "name": "stderr"
        }
      ]
    },
    {
      "cell_type": "code",
      "metadata": {
        "id": "AtUX22NZA7Xf",
        "colab_type": "code",
        "colab": {
          "base_uri": "https://localhost:8080/",
          "height": 35
        },
        "outputId": "5c07b069-79a8-4029-df9e-612055d333ee"
      },
      "source": [
        "# IMPORTING PACKAGES:\n",
        "\n",
        "import os\n",
        "import PIL\n",
        "%matplotlib inline\n",
        "from matplotlib import pyplot as plt\n",
        "import numpy as np\n",
        "import keras\n",
        "from keras import backend as K\n",
        "from keras.preprocessing.image import ImageDataGenerator\n",
        "from keras.models import Sequential\n",
        "from keras.layers import Conv2D, MaxPooling2D, Dropout\n",
        "from keras.layers import Activation, Flatten, Dense\n",
        "from keras import optimizers\n",
        "from keras.applications import VGG19\n",
        "from keras import Model\n",
        "import tensorflow\n",
        "from sklearn.metrics import classification_report, confusion_matrix\n"
      ],
      "execution_count": null,
      "outputs": [
        {
          "output_type": "stream",
          "text": [
            "Using TensorFlow backend.\n"
          ],
          "name": "stderr"
        }
      ]
    },
    {
      "cell_type": "code",
      "metadata": {
        "id": "0ZsHwOiTBUjp",
        "colab_type": "code",
        "colab": {
          "base_uri": "https://localhost:8080/",
          "height": 125
        },
        "outputId": "412435fa-0eb9-4edf-d076-f1eaa131b64a"
      },
      "source": [
        "# DATA PREPARATION:\n",
        "\n",
        "#for reproducibility\n",
        "tensorflow.random.set_seed(1234)\n",
        "\n",
        "train_dir = 'data/train'\n",
        "validation_dir = 'data/val'\n",
        "\n",
        "img_size = (224,224)  #as per the image size of VGG19\n",
        "batch_size = 128\n",
        "\n",
        "classes = sorted(os.listdir(train_dir))\n",
        "print(classes)\n",
        "\n",
        "print(\"Getting data...\")\n",
        "train_datagen = ImageDataGenerator(\n",
        "    rescale=1.0/255,\n",
        "    rotation_range=20,\n",
        "    shear_range=0.2,\n",
        "    zoom_range=0.25,\n",
        "    width_shift_range=0.2,\n",
        "\t  height_shift_range=0.2,\n",
        "    fill_mode=\"nearest\"\n",
        "    )\n",
        "\n",
        "validation_datagen = ImageDataGenerator(rescale=1./255)\n",
        "\n",
        "print(\"Preparing trainig dataset...\")\n",
        "train_generator = train_datagen.flow_from_directory(\n",
        "    train_dir,\n",
        "    target_size = img_size,\n",
        "    batch_size = batch_size,\n",
        "    class_mode = 'binary',\n",
        "    shuffle = True)\n",
        "\n",
        "print(\"Preparing validation dataset...\")\n",
        "validation_generator = validation_datagen.flow_from_directory(\n",
        "    validation_dir,\n",
        "    target_size = img_size,\n",
        "    batch_size = batch_size,\n",
        "    class_mode = 'binary',\n",
        "    shuffle = False)"
      ],
      "execution_count": null,
      "outputs": [
        {
          "output_type": "stream",
          "text": [
            "['covid', 'normal']\n",
            "Getting data...\n",
            "Preparing trainig dataset...\n",
            "Found 328 images belonging to 2 classes.\n",
            "Preparing validation dataset...\n",
            "Found 78 images belonging to 2 classes.\n"
          ],
          "name": "stdout"
        }
      ]
    },
    {
      "cell_type": "code",
      "metadata": {
        "id": "CrXwpd7mCGEi",
        "colab_type": "code",
        "colab": {
          "base_uri": "https://localhost:8080/",
          "height": 1000
        },
        "outputId": "a8ac89ec-f507-4945-ce10-d1c4fdaa80a0"
      },
      "source": [
        "# TRANSFER LEARNING: USING PRE-TRAINED MODEL VGG19\n",
        "\n",
        "#Load the base model, not including its final connected layer, and set the input shape to match our images\n",
        "base_model = VGG19(weights='imagenet', include_top=False, input_shape=train_generator.image_shape)\n",
        "\n",
        "# Freeze the already-trained layers in the base model\n",
        "for layer in base_model.layers:\n",
        "    layer.trainable = False\n",
        "    \n",
        "# Create layers for classification of our images\n",
        "x = base_model.output\n",
        "x = Flatten()(x)\n",
        "x = Dense(512, activation=\"relu\")(x)\n",
        "x = Dropout(0.4)(x)\n",
        "prediction_layer = Dense(1, activation='sigmoid')(x) \n",
        "model = Model(inputs=base_model.input, outputs=prediction_layer)\n",
        "\n",
        "# Compile the model\n",
        "opt = optimizers.Adam(lr = 1e-5)\n",
        "model.compile(optimizer=opt, loss='binary_crossentropy', metrics=['acc'])\n",
        "\n",
        "#View trainable layers \n",
        "for layer in model.layers:\n",
        "  print(\"{0}:\\t{1}\".format(layer.trainable, layer.name))\n",
        "\n",
        "# Now print the full model, which will include the layers of the base model plus the dense layer we added\n",
        "print(model.summary())"
      ],
      "execution_count": null,
      "outputs": [
        {
          "output_type": "stream",
          "text": [
            "Downloading data from https://github.com/fchollet/deep-learning-models/releases/download/v0.1/vgg19_weights_tf_dim_ordering_tf_kernels_notop.h5\n",
            "80142336/80134624 [==============================] - 1s 0us/step\n",
            "False:\tinput_1\n",
            "False:\tblock1_conv1\n",
            "False:\tblock1_conv2\n",
            "False:\tblock1_pool\n",
            "False:\tblock2_conv1\n",
            "False:\tblock2_conv2\n",
            "False:\tblock2_pool\n",
            "False:\tblock3_conv1\n",
            "False:\tblock3_conv2\n",
            "False:\tblock3_conv3\n",
            "False:\tblock3_conv4\n",
            "False:\tblock3_pool\n",
            "False:\tblock4_conv1\n",
            "False:\tblock4_conv2\n",
            "False:\tblock4_conv3\n",
            "False:\tblock4_conv4\n",
            "False:\tblock4_pool\n",
            "False:\tblock5_conv1\n",
            "False:\tblock5_conv2\n",
            "False:\tblock5_conv3\n",
            "False:\tblock5_conv4\n",
            "False:\tblock5_pool\n",
            "True:\tflatten_1\n",
            "True:\tdense_1\n",
            "True:\tdropout_1\n",
            "True:\tdense_2\n",
            "Model: \"model_1\"\n",
            "_________________________________________________________________\n",
            "Layer (type)                 Output Shape              Param #   \n",
            "=================================================================\n",
            "input_1 (InputLayer)         (None, 224, 224, 3)       0         \n",
            "_________________________________________________________________\n",
            "block1_conv1 (Conv2D)        (None, 224, 224, 64)      1792      \n",
            "_________________________________________________________________\n",
            "block1_conv2 (Conv2D)        (None, 224, 224, 64)      36928     \n",
            "_________________________________________________________________\n",
            "block1_pool (MaxPooling2D)   (None, 112, 112, 64)      0         \n",
            "_________________________________________________________________\n",
            "block2_conv1 (Conv2D)        (None, 112, 112, 128)     73856     \n",
            "_________________________________________________________________\n",
            "block2_conv2 (Conv2D)        (None, 112, 112, 128)     147584    \n",
            "_________________________________________________________________\n",
            "block2_pool (MaxPooling2D)   (None, 56, 56, 128)       0         \n",
            "_________________________________________________________________\n",
            "block3_conv1 (Conv2D)        (None, 56, 56, 256)       295168    \n",
            "_________________________________________________________________\n",
            "block3_conv2 (Conv2D)        (None, 56, 56, 256)       590080    \n",
            "_________________________________________________________________\n",
            "block3_conv3 (Conv2D)        (None, 56, 56, 256)       590080    \n",
            "_________________________________________________________________\n",
            "block3_conv4 (Conv2D)        (None, 56, 56, 256)       590080    \n",
            "_________________________________________________________________\n",
            "block3_pool (MaxPooling2D)   (None, 28, 28, 256)       0         \n",
            "_________________________________________________________________\n",
            "block4_conv1 (Conv2D)        (None, 28, 28, 512)       1180160   \n",
            "_________________________________________________________________\n",
            "block4_conv2 (Conv2D)        (None, 28, 28, 512)       2359808   \n",
            "_________________________________________________________________\n",
            "block4_conv3 (Conv2D)        (None, 28, 28, 512)       2359808   \n",
            "_________________________________________________________________\n",
            "block4_conv4 (Conv2D)        (None, 28, 28, 512)       2359808   \n",
            "_________________________________________________________________\n",
            "block4_pool (MaxPooling2D)   (None, 14, 14, 512)       0         \n",
            "_________________________________________________________________\n",
            "block5_conv1 (Conv2D)        (None, 14, 14, 512)       2359808   \n",
            "_________________________________________________________________\n",
            "block5_conv2 (Conv2D)        (None, 14, 14, 512)       2359808   \n",
            "_________________________________________________________________\n",
            "block5_conv3 (Conv2D)        (None, 14, 14, 512)       2359808   \n",
            "_________________________________________________________________\n",
            "block5_conv4 (Conv2D)        (None, 14, 14, 512)       2359808   \n",
            "_________________________________________________________________\n",
            "block5_pool (MaxPooling2D)   (None, 7, 7, 512)         0         \n",
            "_________________________________________________________________\n",
            "flatten_1 (Flatten)          (None, 25088)             0         \n",
            "_________________________________________________________________\n",
            "dense_1 (Dense)              (None, 512)               12845568  \n",
            "_________________________________________________________________\n",
            "dropout_1 (Dropout)          (None, 512)               0         \n",
            "_________________________________________________________________\n",
            "dense_2 (Dense)              (None, 1)                 513       \n",
            "=================================================================\n",
            "Total params: 32,870,465\n",
            "Trainable params: 12,846,081\n",
            "Non-trainable params: 20,024,384\n",
            "_________________________________________________________________\n",
            "None\n"
          ],
          "name": "stdout"
        }
      ]
    },
    {
      "cell_type": "code",
      "metadata": {
        "id": "37v_uY6kCtqw",
        "colab_type": "code",
        "colab": {
          "base_uri": "https://localhost:8080/",
          "height": 1000
        },
        "outputId": "39631ba0-15bb-4105-8a50-107b73f12882"
      },
      "source": [
        "# TRAINING:\n",
        "num_epochs = 30\n",
        "\n",
        "# checkpoint = keras.callbacks.ModelCheckpoint('model-{epoch:03d}-{acc:03f}-{val_acc:03f}.h5', \n",
        "# \t\t\t\t\t\t\tmonitor='val_acc', verbose=1, \n",
        "# \t\t\t\t\t\t\tsave_best_only=True, mode='auto')\n",
        "\n",
        "earlyStopping = keras.callbacks.EarlyStopping(monitor='val_loss', patience=10, verbose=0, mode='min')\n",
        "\n",
        "history = model.fit_generator(\n",
        "    train_generator,\n",
        "    steps_per_epoch = train_generator.samples // batch_size,\n",
        "    validation_data = validation_generator,\n",
        "    validation_steps = validation_generator.samples // batch_size,\n",
        "    epochs = num_epochs,\n",
        "    callbacks= [earlyStopping])\n",
        "    # callbacks= [checkpoint, earlyStopping])\n"
      ],
      "execution_count": null,
      "outputs": [
        {
          "output_type": "stream",
          "text": [
            "Epoch 1/30\n",
            "2/2 [==============================] - 30s 15s/step - loss: 0.7447 - acc: 0.5430 - val_loss: 0.6546 - val_acc: 0.6538\n",
            "Epoch 2/30\n",
            "2/2 [==============================] - 9s 5s/step - loss: 0.6817 - acc: 0.6000 - val_loss: 0.6514 - val_acc: 0.5000\n",
            "Epoch 3/30\n",
            "2/2 [==============================] - 9s 4s/step - loss: 0.6902 - acc: 0.5850 - val_loss: 0.5985 - val_acc: 0.5641\n",
            "Epoch 4/30\n",
            "2/2 [==============================] - 9s 5s/step - loss: 0.6054 - acc: 0.6350 - val_loss: 0.5092 - val_acc: 0.8077\n",
            "Epoch 5/30\n",
            "2/2 [==============================] - 11s 6s/step - loss: 0.5526 - acc: 0.7266 - val_loss: 0.4492 - val_acc: 0.9103\n",
            "Epoch 6/30\n",
            "2/2 [==============================] - 9s 4s/step - loss: 0.5637 - acc: 0.7200 - val_loss: 0.4083 - val_acc: 0.9487\n",
            "Epoch 7/30\n",
            "2/2 [==============================] - 12s 6s/step - loss: 0.5182 - acc: 0.7500 - val_loss: 0.3777 - val_acc: 0.9359\n",
            "Epoch 8/30\n",
            "2/2 [==============================] - 9s 4s/step - loss: 0.4534 - acc: 0.8250 - val_loss: 0.3622 - val_acc: 0.8718\n",
            "Epoch 9/30\n",
            "2/2 [==============================] - 9s 5s/step - loss: 0.4207 - acc: 0.8550 - val_loss: 0.3559 - val_acc: 0.8718\n",
            "Epoch 10/30\n",
            "2/2 [==============================] - 10s 5s/step - loss: 0.4046 - acc: 0.8600 - val_loss: 0.3546 - val_acc: 0.8590\n",
            "Epoch 11/30\n",
            "2/2 [==============================] - 11s 5s/step - loss: 0.4082 - acc: 0.8359 - val_loss: 0.3314 - val_acc: 0.8718\n",
            "Epoch 12/30\n",
            "2/2 [==============================] - 9s 5s/step - loss: 0.4063 - acc: 0.8450 - val_loss: 0.2971 - val_acc: 0.8718\n",
            "Epoch 13/30\n",
            "2/2 [==============================] - 9s 4s/step - loss: 0.3663 - acc: 0.8600 - val_loss: 0.2632 - val_acc: 0.9359\n",
            "Epoch 14/30\n",
            "2/2 [==============================] - 9s 4s/step - loss: 0.3273 - acc: 0.8750 - val_loss: 0.2374 - val_acc: 0.9359\n",
            "Epoch 15/30\n",
            "2/2 [==============================] - 12s 6s/step - loss: 0.3207 - acc: 0.8906 - val_loss: 0.2215 - val_acc: 0.9359\n",
            "Epoch 16/30\n",
            "2/2 [==============================] - 9s 4s/step - loss: 0.3256 - acc: 0.8750 - val_loss: 0.2172 - val_acc: 0.9359\n",
            "Epoch 17/30\n",
            "2/2 [==============================] - 11s 6s/step - loss: 0.2878 - acc: 0.9062 - val_loss: 0.2218 - val_acc: 0.9359\n",
            "Epoch 18/30\n",
            "2/2 [==============================] - 9s 5s/step - loss: 0.3272 - acc: 0.8850 - val_loss: 0.2195 - val_acc: 0.9359\n",
            "Epoch 19/30\n",
            "2/2 [==============================] - 9s 4s/step - loss: 0.2792 - acc: 0.9150 - val_loss: 0.2230 - val_acc: 0.9231\n",
            "Epoch 20/30\n",
            "2/2 [==============================] - 12s 6s/step - loss: 0.2568 - acc: 0.9414 - val_loss: 0.2187 - val_acc: 0.9231\n",
            "Epoch 21/30\n",
            "2/2 [==============================] - 9s 5s/step - loss: 0.2696 - acc: 0.9300 - val_loss: 0.2024 - val_acc: 0.9359\n",
            "Epoch 22/30\n",
            "2/2 [==============================] - 9s 4s/step - loss: 0.2394 - acc: 0.9250 - val_loss: 0.1796 - val_acc: 0.9359\n",
            "Epoch 23/30\n",
            "2/2 [==============================] - 12s 6s/step - loss: 0.2079 - acc: 0.9414 - val_loss: 0.1630 - val_acc: 0.9487\n",
            "Epoch 24/30\n",
            "2/2 [==============================] - 9s 4s/step - loss: 0.2460 - acc: 0.9050 - val_loss: 0.1563 - val_acc: 0.9487\n",
            "Epoch 25/30\n",
            "2/2 [==============================] - 10s 5s/step - loss: 0.1982 - acc: 0.9300 - val_loss: 0.1585 - val_acc: 0.9359\n",
            "Epoch 26/30\n",
            "2/2 [==============================] - 12s 6s/step - loss: 0.2142 - acc: 0.9414 - val_loss: 0.1687 - val_acc: 0.9359\n",
            "Epoch 27/30\n",
            "2/2 [==============================] - 9s 4s/step - loss: 0.2100 - acc: 0.9450 - val_loss: 0.1749 - val_acc: 0.9359\n",
            "Epoch 28/30\n",
            "2/2 [==============================] - 10s 5s/step - loss: 0.2285 - acc: 0.9100 - val_loss: 0.1789 - val_acc: 0.9359\n",
            "Epoch 29/30\n",
            "2/2 [==============================] - 12s 6s/step - loss: 0.1877 - acc: 0.9375 - val_loss: 0.1696 - val_acc: 0.9359\n",
            "Epoch 30/30\n",
            "2/2 [==============================] - 9s 4s/step - loss: 0.1891 - acc: 0.9450 - val_loss: 0.1505 - val_acc: 0.9359\n"
          ],
          "name": "stdout"
        }
      ]
    },
    {
      "cell_type": "code",
      "metadata": {
        "id": "VXYZgJUGEBOA",
        "colab_type": "code",
        "colab": {
          "base_uri": "https://localhost:8080/",
          "height": 89
        },
        "outputId": "ae2a6f53-33b8-4b36-fce8-ddf174bd53d2"
      },
      "source": [
        "# EVALUATION:\n",
        "\n",
        "_, acc = model.evaluate_generator(train_generator, steps=train_generator.samples//batch_size +1, verbose = 1)\n",
        "print('Train Accuracy: %.3f' % (acc * 100.0))\n",
        "\n",
        "_, acc = model.evaluate_generator(validation_generator, steps=validation_generator.samples//batch_size +1, verbose = 1)\n",
        "print('Validation Accuracy: %.3f' % (acc * 100.0))\n"
      ],
      "execution_count": null,
      "outputs": [
        {
          "output_type": "stream",
          "text": [
            "3/3 [==============================] - 14s 5s/step\n",
            "Train Accuracy: 94.512\n",
            "1/1 [==============================] - 4s 4s/step\n",
            "Validation Accuracy: 93.590\n"
          ],
          "name": "stdout"
        }
      ]
    },
    {
      "cell_type": "code",
      "metadata": {
        "id": "kIcc7IfLEPoF",
        "colab_type": "code",
        "colab": {
          "base_uri": "https://localhost:8080/",
          "height": 279
        },
        "outputId": "a87c5153-4218-48c2-a2df-f09bce0095c7"
      },
      "source": [
        "# PLOTTING LOSS AND ACCURACY DURING TRAINING:\n",
        "\n",
        "%matplotlib inline\n",
        "from matplotlib import pyplot as plt\n",
        "\n",
        "epoch_nums = range(1,num_epochs+1)\n",
        "training_loss = history.history[\"loss\"]\n",
        "validation_loss = history.history[\"val_loss\"]\n",
        "plt.figure(1)\n",
        "plt.subplot(211)\n",
        "plt.plot(epoch_nums, training_loss)\n",
        "plt.plot(epoch_nums, validation_loss)\n",
        "plt.xlabel('Epoch')\n",
        "plt.ylabel('Loss')\n",
        "plt.legend(['training', 'validation'], loc='upper right')\n",
        "\n",
        "epoch_nums = range(1,num_epochs+1)\n",
        "training_accuracy = history.history[\"acc\"]\n",
        "validation_accuracy = history.history[\"val_acc\"]\n",
        "plt.subplot(212)\n",
        "plt.plot(epoch_nums, training_accuracy)\n",
        "plt.plot(epoch_nums, validation_accuracy)\n",
        "plt.xlabel('Epoch')\n",
        "plt.ylabel('Accuracy')\n",
        "plt.legend(['training', 'validation'], loc='lower right')\n",
        "plt.show()"
      ],
      "execution_count": null,
      "outputs": [
        {
          "output_type": "display_data",
          "data": {
            "image/png": "[encoded data removed]",
            "text/plain": [
              "<Figure size 432x288 with 2 Axes>"
            ]
          },
          "metadata": {
            "tags": [],
            "needs_background": "light"
          }
        }
      ]
    },
    {
      "cell_type": "code",
      "metadata": {
        "id": "snzep2PAFEeS",
        "colab_type": "code",
        "colab": {
          "base_uri": "https://localhost:8080/",
          "height": 552
        },
        "outputId": "d0677b1a-7e02-40a9-9c2d-c392727122b6"
      },
      "source": [
        "# CONFUSION MATRIX and CLASSIFICATION REPORT FOR VALIDATION DATA:\n",
        "\n",
        "validation_generator.reset()\n",
        "\n",
        "print(\"Generating predictions from validation data...\")\n",
        "Y_pred = model.predict_generator(validation_generator, validation_generator.samples // batch_size+1)\n",
        "# y_pred = np.argmax(Y_pred, axis=1)\n",
        "y_pred = Y_pred > 0.5\n",
        "y_true = validation_generator.classes\n",
        "cm = confusion_matrix(y_true, y_pred)\n",
        "plt.imshow(cm, interpolation=\"nearest\", cmap=plt.cm.Blues)\n",
        "plt.colorbar()\n",
        "tick_marks = np.arange(len(classes))\n",
        "plt.xticks(tick_marks, classes, rotation=45)\n",
        "plt.yticks(tick_marks, classes)\n",
        "plt.xlabel(\"Predicted Class\")\n",
        "plt.ylabel(\"True Class\")\n",
        "plt.show()\n",
        "print('Confusion Matrix:')\n",
        "print(cm)\n",
        "print('Classification Report:')\n",
        "target_names = list(train_generator.class_indices)\n",
        "print(classification_report(validation_generator.classes, y_pred, target_names=target_names))"
      ],
      "execution_count": null,
      "outputs": [
        {
          "output_type": "stream",
          "text": [
            "Generating predictions from validation data...\n"
          ],
          "name": "stdout"
        },
        {
          "output_type": "display_data",
          "data": {
            "image/png": "[encoded data removed]",
            "text/plain": [
              "<Figure size 432x288 with 2 Axes>"
            ]
          },
          "metadata": {
            "tags": [],
            "needs_background": "light"
          }
        },
        {
          "output_type": "stream",
          "text": [
            "Confusion Matrix:\n",
            "[[34  5]\n",
            " [ 0 39]]\n",
            "Classification Report:\n",
            "              precision    recall  f1-score   support\n",
            "\n",
            "       covid       1.00      0.87      0.93        39\n",
            "      normal       0.89      1.00      0.94        39\n",
            "\n",
            "    accuracy                           0.94        78\n",
            "   macro avg       0.94      0.94      0.94        78\n",
            "weighted avg       0.94      0.94      0.94        78\n",
            "\n"
          ],
          "name": "stdout"
        }
      ]
    },
    {
      "cell_type": "code",
      "metadata": {
        "id": "N_pqxzYVR4Hg",
        "colab_type": "code",
        "colab": {
          "base_uri": "https://localhost:8080/",
          "height": 1000
        },
        "outputId": "9c2dae65-d1a4-4a35-b430-73068e36a898"
      },
      "source": [
        "# FINE TUNING: USING PRE-TRAINED MODEL VGG19\n",
        "\n",
        "train_generator.reset();\n",
        "validation_generator.reset();\n",
        "\n",
        "for layer in base_model.layers:\n",
        "    # Boolean whether this layer is trainable.\n",
        "    trainable = ('block5' in layer.name)\n",
        "    # Set the layer's bool.\n",
        "    layer.trainable = trainable\n",
        "    \n",
        "# Create layers for classification of our images\n",
        "x = base_model.output\n",
        "x = Flatten()(x)\n",
        "x = Dense(512, activation=\"relu\")(x)\n",
        "x = Dropout(0.4)(x)\n",
        "prediction_layer = Dense(1, activation='sigmoid')(x) \n",
        "model = Model(inputs=base_model.input, outputs=prediction_layer)\n",
        "\n",
        "# Compile the model\n",
        "opt = optimizers.Adam(lr = 1e-5)\n",
        "model.compile(optimizer=opt, loss='binary_crossentropy', metrics=['acc'])\n",
        "\n",
        "#View trainable layers \n",
        "for layer in model.layers:\n",
        "  print(\"{0}:\\t{1}\".format(layer.trainable, layer.name))\n",
        "\n",
        "# Now print the full model, which will include the layers of the base model plus the dense layer we added\n",
        "print(model.summary())"
      ],
      "execution_count": null,
      "outputs": [
        {
          "output_type": "stream",
          "text": [
            "False:\tinput_1\n",
            "False:\tblock1_conv1\n",
            "False:\tblock1_conv2\n",
            "False:\tblock1_pool\n",
            "False:\tblock2_conv1\n",
            "False:\tblock2_conv2\n",
            "False:\tblock2_pool\n",
            "False:\tblock3_conv1\n",
            "False:\tblock3_conv2\n",
            "False:\tblock3_conv3\n",
            "False:\tblock3_conv4\n",
            "False:\tblock3_pool\n",
            "False:\tblock4_conv1\n",
            "False:\tblock4_conv2\n",
            "False:\tblock4_conv3\n",
            "False:\tblock4_conv4\n",
            "False:\tblock4_pool\n",
            "True:\tblock5_conv1\n",
            "True:\tblock5_conv2\n",
            "True:\tblock5_conv3\n",
            "True:\tblock5_conv4\n",
            "True:\tblock5_pool\n",
            "True:\tflatten_7\n",
            "True:\tdense_13\n",
            "True:\tdropout_7\n",
            "True:\tdense_14\n",
            "Model: \"model_7\"\n",
            "_________________________________________________________________\n",
            "Layer (type)                 Output Shape              Param #   \n",
            "=================================================================\n",
            "input_1 (InputLayer)         (None, 224, 224, 3)       0         \n",
            "_________________________________________________________________\n",
            "block1_conv1 (Conv2D)        (None, 224, 224, 64)      1792      \n",
            "_________________________________________________________________\n",
            "block1_conv2 (Conv2D)        (None, 224, 224, 64)      36928     \n",
            "_________________________________________________________________\n",
            "block1_pool (MaxPooling2D)   (None, 112, 112, 64)      0         \n",
            "_________________________________________________________________\n",
            "block2_conv1 (Conv2D)        (None, 112, 112, 128)     73856     \n",
            "_________________________________________________________________\n",
            "block2_conv2 (Conv2D)        (None, 112, 112, 128)     147584    \n",
            "_________________________________________________________________\n",
            "block2_pool (MaxPooling2D)   (None, 56, 56, 128)       0         \n",
            "_________________________________________________________________\n",
            "block3_conv1 (Conv2D)        (None, 56, 56, 256)       295168    \n",
            "_________________________________________________________________\n",
            "block3_conv2 (Conv2D)        (None, 56, 56, 256)       590080    \n",
            "_________________________________________________________________\n",
            "block3_conv3 (Conv2D)        (None, 56, 56, 256)       590080    \n",
            "_________________________________________________________________\n",
            "block3_conv4 (Conv2D)        (None, 56, 56, 256)       590080    \n",
            "_________________________________________________________________\n",
            "block3_pool (MaxPooling2D)   (None, 28, 28, 256)       0         \n",
            "_________________________________________________________________\n",
            "block4_conv1 (Conv2D)        (None, 28, 28, 512)       1180160   \n",
            "_________________________________________________________________\n",
            "block4_conv2 (Conv2D)        (None, 28, 28, 512)       2359808   \n",
            "_________________________________________________________________\n",
            "block4_conv3 (Conv2D)        (None, 28, 28, 512)       2359808   \n",
            "_________________________________________________________________\n",
            "block4_conv4 (Conv2D)        (None, 28, 28, 512)       2359808   \n",
            "_________________________________________________________________\n",
            "block4_pool (MaxPooling2D)   (None, 14, 14, 512)       0         \n",
            "_________________________________________________________________\n",
            "block5_conv1 (Conv2D)        (None, 14, 14, 512)       2359808   \n",
            "_________________________________________________________________\n",
            "block5_conv2 (Conv2D)        (None, 14, 14, 512)       2359808   \n",
            "_________________________________________________________________\n",
            "block5_conv3 (Conv2D)        (None, 14, 14, 512)       2359808   \n",
            "_________________________________________________________________\n",
            "block5_conv4 (Conv2D)        (None, 14, 14, 512)       2359808   \n",
            "_________________________________________________________________\n",
            "block5_pool (MaxPooling2D)   (None, 7, 7, 512)         0         \n",
            "_________________________________________________________________\n",
            "flatten_7 (Flatten)          (None, 25088)             0         \n",
            "_________________________________________________________________\n",
            "dense_13 (Dense)             (None, 512)               12845568  \n",
            "_________________________________________________________________\n",
            "dropout_7 (Dropout)          (None, 512)               0         \n",
            "_________________________________________________________________\n",
            "dense_14 (Dense)             (None, 1)                 513       \n",
            "=================================================================\n",
            "Total params: 32,870,465\n",
            "Trainable params: 22,285,313\n",
            "Non-trainable params: 10,585,152\n",
            "_________________________________________________________________\n",
            "None\n"
          ],
          "name": "stdout"
        }
      ]
    },
    {
      "cell_type": "code",
      "metadata": {
        "id": "z_6fPDDySfY8",
        "colab_type": "code",
        "colab": {
          "base_uri": "https://localhost:8080/",
          "height": 1000
        },
        "outputId": "8bcd447b-205d-417e-c264-94d64d6f26a4"
      },
      "source": [
        "# TRAINING:\n",
        "num_epochs = 30\n",
        "\n",
        "# checkpoint = keras.callbacks.ModelCheckpoint('model-{epoch:03d}-{acc:03f}-{val_acc:03f}.h5', \n",
        "# \t\t\t\t\t\t\tmonitor='val_acc', verbose=1, \n",
        "# \t\t\t\t\t\t\tsave_best_only=True, mode='auto')\n",
        "\n",
        "earlyStopping = keras.callbacks.EarlyStopping(monitor='val_loss', patience=10, verbose=0, mode='min')\n",
        "\n",
        "history_fine = model.fit_generator(\n",
        "    train_generator,\n",
        "    steps_per_epoch = train_generator.samples // batch_size,\n",
        "    validation_data = validation_generator,\n",
        "    validation_steps = validation_generator.samples // batch_size,\n",
        "    epochs = num_epochs,\n",
        "    callbacks= [earlyStopping])\n",
        "    # callbacks= [checkpoint, earlyStopping])\n"
      ],
      "execution_count": null,
      "outputs": [
        {
          "output_type": "stream",
          "text": [
            "Epoch 1/30\n",
            "2/2 [==============================] - 11s 6s/step - loss: 0.7891 - acc: 0.4950 - val_loss: 0.5862 - val_acc: 0.7308\n",
            "Epoch 2/30\n",
            "2/2 [==============================] - 12s 6s/step - loss: 0.6515 - acc: 0.5938 - val_loss: 0.4693 - val_acc: 0.9231\n",
            "Epoch 3/30\n",
            "2/2 [==============================] - 9s 4s/step - loss: 0.5368 - acc: 0.7750 - val_loss: 0.3771 - val_acc: 0.9359\n",
            "Epoch 4/30\n",
            "2/2 [==============================] - 9s 5s/step - loss: 0.4561 - acc: 0.7900 - val_loss: 0.3098 - val_acc: 0.9359\n",
            "Epoch 5/30\n",
            "2/2 [==============================] - 9s 5s/step - loss: 0.4220 - acc: 0.8500 - val_loss: 0.2745 - val_acc: 0.9103\n",
            "Epoch 6/30\n",
            "2/2 [==============================] - 12s 6s/step - loss: 0.3393 - acc: 0.8906 - val_loss: 0.2443 - val_acc: 0.9103\n",
            "Epoch 7/30\n",
            "2/2 [==============================] - 8s 4s/step - loss: 0.2785 - acc: 0.9100 - val_loss: 0.2095 - val_acc: 0.9231\n",
            "Epoch 8/30\n",
            "2/2 [==============================] - 9s 5s/step - loss: 0.2405 - acc: 0.9300 - val_loss: 0.1606 - val_acc: 0.9359\n",
            "Epoch 9/30\n",
            "2/2 [==============================] - 13s 6s/step - loss: 0.2041 - acc: 0.9297 - val_loss: 0.1293 - val_acc: 0.9487\n",
            "Epoch 10/30\n",
            "2/2 [==============================] - 10s 5s/step - loss: 0.2166 - acc: 0.9000 - val_loss: 0.1230 - val_acc: 0.9487\n",
            "Epoch 11/30\n",
            "2/2 [==============================] - 12s 6s/step - loss: 0.1615 - acc: 0.9492 - val_loss: 0.1215 - val_acc: 0.9487\n",
            "Epoch 12/30\n",
            "2/2 [==============================] - 9s 5s/step - loss: 0.1587 - acc: 0.9400 - val_loss: 0.1271 - val_acc: 0.9487\n",
            "Epoch 13/30\n",
            "2/2 [==============================] - 12s 6s/step - loss: 0.1432 - acc: 0.9570 - val_loss: 0.1117 - val_acc: 0.9487\n",
            "Epoch 14/30\n",
            "2/2 [==============================] - 9s 5s/step - loss: 0.1128 - acc: 0.9650 - val_loss: 0.0806 - val_acc: 0.9615\n",
            "Epoch 15/30\n",
            "2/2 [==============================] - 9s 5s/step - loss: 0.1379 - acc: 0.9400 - val_loss: 0.0648 - val_acc: 0.9615\n",
            "Epoch 16/30\n",
            "2/2 [==============================] - 10s 5s/step - loss: 0.0816 - acc: 0.9800 - val_loss: 0.0661 - val_acc: 0.9744\n",
            "Epoch 17/30\n",
            "2/2 [==============================] - 11s 5s/step - loss: 0.0734 - acc: 0.9805 - val_loss: 0.0761 - val_acc: 0.9615\n",
            "Epoch 18/30\n",
            "2/2 [==============================] - 10s 5s/step - loss: 0.0927 - acc: 0.9650 - val_loss: 0.0772 - val_acc: 0.9615\n",
            "Epoch 19/30\n",
            "2/2 [==============================] - 9s 5s/step - loss: 0.0772 - acc: 0.9800 - val_loss: 0.0772 - val_acc: 0.9744\n",
            "Epoch 20/30\n",
            "2/2 [==============================] - 12s 6s/step - loss: 0.0830 - acc: 0.9844 - val_loss: 0.0626 - val_acc: 0.9744\n",
            "Epoch 21/30\n",
            "2/2 [==============================] - 9s 5s/step - loss: 0.0528 - acc: 0.9700 - val_loss: 0.0565 - val_acc: 0.9744\n",
            "Epoch 22/30\n",
            "2/2 [==============================] - 12s 6s/step - loss: 0.0635 - acc: 0.9766 - val_loss: 0.0492 - val_acc: 0.9744\n",
            "Epoch 23/30\n",
            "2/2 [==============================] - 9s 5s/step - loss: 0.0513 - acc: 0.9850 - val_loss: 0.0597 - val_acc: 0.9744\n",
            "Epoch 24/30\n",
            "2/2 [==============================] - 10s 5s/step - loss: 0.0499 - acc: 0.9850 - val_loss: 0.0602 - val_acc: 0.9744\n",
            "Epoch 25/30\n",
            "2/2 [==============================] - 13s 7s/step - loss: 0.0415 - acc: 0.9922 - val_loss: 0.0590 - val_acc: 0.9744\n",
            "Epoch 26/30\n",
            "2/2 [==============================] - 10s 5s/step - loss: 0.0561 - acc: 0.9900 - val_loss: 0.0364 - val_acc: 0.9872\n",
            "Epoch 27/30\n",
            "2/2 [==============================] - 10s 5s/step - loss: 0.0867 - acc: 0.9800 - val_loss: 0.0247 - val_acc: 0.9872\n",
            "Epoch 28/30\n",
            "2/2 [==============================] - 10s 5s/step - loss: 0.0422 - acc: 0.9900 - val_loss: 0.0282 - val_acc: 0.9872\n",
            "Epoch 29/30\n",
            "2/2 [==============================] - 12s 6s/step - loss: 0.0539 - acc: 0.9844 - val_loss: 0.0319 - val_acc: 0.9872\n",
            "Epoch 30/30\n",
            "2/2 [==============================] - 9s 5s/step - loss: 0.0278 - acc: 0.9900 - val_loss: 0.0380 - val_acc: 0.9872\n"
          ],
          "name": "stdout"
        }
      ]
    },
    {
      "cell_type": "code",
      "metadata": {
        "id": "mEXicxEqSutY",
        "colab_type": "code",
        "colab": {
          "base_uri": "https://localhost:8080/",
          "height": 89
        },
        "outputId": "1c7effc8-7a79-4a16-f80f-2923677e1232"
      },
      "source": [
        "# EVALUATION:\n",
        "\n",
        "_, acc = model.evaluate_generator(train_generator, steps=train_generator.samples//batch_size +1, verbose = 1)\n",
        "print('Train Accuracy: %.3f' % (acc * 100.0))\n",
        "\n",
        "_, acc = model.evaluate_generator(validation_generator, steps=validation_generator.samples//batch_size +1, verbose = 1)\n",
        "print('Validation Accuracy: %.3f' % (acc * 100.0))\n"
      ],
      "execution_count": null,
      "outputs": [
        {
          "output_type": "stream",
          "text": [
            "3/3 [==============================] - 14s 5s/step\n",
            "Train Accuracy: 99.695\n",
            "1/1 [==============================] - 4s 4s/step\n",
            "Validation Accuracy: 98.718\n"
          ],
          "name": "stdout"
        }
      ]
    },
    {
      "cell_type": "code",
      "metadata": {
        "id": "576iQ8bHSzC-",
        "colab_type": "code",
        "colab": {
          "base_uri": "https://localhost:8080/",
          "height": 279
        },
        "outputId": "49c77b57-2470-472c-b0df-4f139e838188"
      },
      "source": [
        "# PLOTTING LOSS AND ACCURACY DURING TRAINING:\n",
        "\n",
        "%matplotlib inline\n",
        "from matplotlib import pyplot as plt\n",
        "\n",
        "epoch_nums = range(1,num_epochs+1)\n",
        "training_loss = history_fine.history[\"loss\"]\n",
        "validation_loss = history_fine.history[\"val_loss\"]\n",
        "plt.figure(1)\n",
        "plt.subplot(211)\n",
        "plt.plot(epoch_nums, training_loss)\n",
        "plt.plot(epoch_nums, validation_loss)\n",
        "plt.xlabel('Epoch')\n",
        "plt.ylabel('Loss')\n",
        "plt.legend(['training', 'validation'], loc='upper right')\n",
        "\n",
        "epoch_nums = range(1,num_epochs+1)\n",
        "training_accuracy = history_fine.history[\"acc\"]\n",
        "validation_accuracy = history_fine.history[\"val_acc\"]\n",
        "plt.subplot(212)\n",
        "plt.plot(epoch_nums, training_accuracy)\n",
        "plt.plot(epoch_nums, validation_accuracy)\n",
        "plt.xlabel('Epoch')\n",
        "plt.ylabel('Accuracy')\n",
        "plt.legend(['training', 'validation'], loc='lower right')\n",
        "plt.show()"
      ],
      "execution_count": null,
      "outputs": [
        {
          "output_type": "display_data",
          "data": {
            "image/png": "[encoded data removed]",
            "text/plain": [
              "<Figure size 432x288 with 2 Axes>"
            ]
          },
          "metadata": {
            "tags": [],
            "needs_background": "light"
          }
        }
      ]
    },
    {
      "cell_type": "code",
      "metadata": {
        "id": "z4xsmZaCS3FC",
        "colab_type": "code",
        "colab": {
          "base_uri": "https://localhost:8080/",
          "height": 552
        },
        "outputId": "ace8c01a-0e85-4474-8eab-985467164bd2"
      },
      "source": [
        "# CONFUSION MATRIX and CLASSIFICATION REPORT FOR TEST DATA:\n",
        "\n",
        "validation_generator.reset()\n",
        "\n",
        "print(\"Generating predictions from validation data...\")\n",
        "Y_pred = model.predict_generator(validation_generator, validation_generator.samples // batch_size+1)\n",
        "# y_pred = np.argmax(Y_pred, axis=1)\n",
        "y_pred = Y_pred > 0.5\n",
        "y_true = validation_generator.classes\n",
        "cm = confusion_matrix(y_true, y_pred)\n",
        "plt.imshow(cm, interpolation=\"nearest\", cmap=plt.cm.Blues)\n",
        "plt.colorbar()\n",
        "tick_marks = np.arange(len(classes))\n",
        "plt.xticks(tick_marks, classes, rotation=45)\n",
        "plt.yticks(tick_marks, classes)\n",
        "plt.xlabel(\"Predicted Class\")\n",
        "plt.ylabel(\"True Class\")\n",
        "plt.show()\n",
        "print('Confusion Matrix:')\n",
        "print(cm)\n",
        "print('Classification Report:')\n",
        "target_names = list(train_generator.class_indices)\n",
        "print(classification_report(validation_generator.classes, y_pred, target_names=target_names))"
      ],
      "execution_count": null,
      "outputs": [
        {
          "output_type": "stream",
          "text": [
            "Generating predictions from validation data...\n"
          ],
          "name": "stdout"
        },
        {
          "output_type": "display_data",
          "data": {
            "image/png": "[encoded data removed]",
            "text/plain": [
              "<Figure size 432x288 with 2 Axes>"
            ]
          },
          "metadata": {
            "tags": [],
            "needs_background": "light"
          }
        },
        {
          "output_type": "stream",
          "text": [
            "Confusion Matrix:\n",
            "[[38  1]\n",
            " [ 0 39]]\n",
            "Classification Report:\n",
            "              precision    recall  f1-score   support\n",
            "\n",
            "       covid       1.00      0.97      0.99        39\n",
            "      normal       0.97      1.00      0.99        39\n",
            "\n",
            "    accuracy                           0.99        78\n",
            "   macro avg       0.99      0.99      0.99        78\n",
            "weighted avg       0.99      0.99      0.99        78\n",
            "\n"
          ],
          "name": "stdout"
        }
      ]
    },
    {
      "cell_type": "code",
      "metadata": {
        "id": "zoMyOiJe-xnF",
        "colab_type": "code",
        "colab": {}
      },
      "source": [
        "#Saving fine tuned model\n",
        "model.save(\"model_covid_19_binary.h5\")\n",
        "\n",
        "#Saving fine tuned model weights\n",
        "model.save_weights(\"model_covid_19_binary_weights.h5\")"
      ],
      "execution_count": null,
      "outputs": []
    },
    {
      "cell_type": "code",
      "metadata": {
        "id": "gs3EO4RyhjRP",
        "colab_type": "code",
        "colab": {
          "base_uri": "https://localhost:8080/",
          "height": 35
        },
        "outputId": "b69bbc3b-43a9-4027-e3a4-3e93b56fb9ea"
      },
      "source": [
        "#Converting keras h5 model into mobile friendly tflite model \n",
        "\n",
        "tflite_model = tf.keras.models.load_model('model_covid_19_binary.h5')\n",
        "converter = tf.lite.TFLiteConverter.from_keras_model(tflite_model)\n",
        "converter.optimizations = [tf.lite.Optimize.DEFAULT]\n",
        "tflite_save = converter.convert()\n",
        "open(\"model_covid_19_binary.tflite\", \"wb\").write(tflite_save)\n"
      ],
      "execution_count": null,
      "outputs": [
        {
          "output_type": "execute_result",
          "data": {
            "text/plain": [
              "32897760"
            ]
          },
          "metadata": {
            "tags": []
          },
          "execution_count": 52
        }
      ]
    },
    {
      "cell_type": "code",
      "metadata": {
        "id": "pWQs-KoAi8Jr",
        "colab_type": "code",
        "colab": {}
      },
      "source": [
        "#Downloading test images which will be utilized to see the prediction of the model using mobile app\n",
        "from google.colab import files\n",
        "\n",
        "shutil.make_archive('data/test', 'zip', 'data/test')\n",
        "files.download('data/test.zip')\n",
        "\n",
        "#Downloading the tflite model\n",
        "from google.colab import files\n",
        "files.download('model_covid_19_binary.tflite')"
      ],
      "execution_count": null,
      "outputs": []
    }
  ]
}