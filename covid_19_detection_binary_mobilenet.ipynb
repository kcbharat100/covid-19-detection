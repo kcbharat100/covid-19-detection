{
  "nbformat": 4,
  "nbformat_minor": 0,
  "metadata": {
    "colab": {
      "name": "covid_19_detection_binary_mobilenet.ipynb",
      "provenance": [],
      "authorship_tag": "ABX9TyOCIJqGGe4g6a9hslUgrG3+",
      "include_colab_link": true
    },
    "kernelspec": {
      "name": "python3",
      "display_name": "Python 3"
    },
    "accelerator": "GPU"
  },
  "cells": [
    {
      "cell_type": "markdown",
      "metadata": {
        "id": "view-in-github",
        "colab_type": "text"
      },
      "source": [
        "<a href=\"https://colab.research.google.com/github/kcbharat100/covid-19-detection-using-x-rays/blob/master/covid_19_detection_binary_mobilenet.ipynb\" target=\"_parent\"><img src=\"https://colab.research.google.com/assets/colab-badge.svg\" alt=\"Open In Colab\"/></a>"
      ]
    },
    {
      "cell_type": "code",
      "metadata": {
        "id": "TRYOADCULT88",
        "colab_type": "code",
        "colab": {
          "base_uri": "https://localhost:8080/",
          "height": 158
        },
        "outputId": "af67ab17-cf3b-4415-9ea4-69b633ec9f8f"
      },
      "source": [
        "# Accessing dataset from github repo\n",
        "\n",
        "!git clone https://github.com/kcbharat100/covid-19-detection-using-x-rays.git"
      ],
      "execution_count": 1,
      "outputs": [
        {
          "output_type": "stream",
          "text": [
            "Cloning into 'covid-19-detection-using-x-rays'...\n",
            "remote: Enumerating objects: 30, done.\u001b[K\n",
            "remote: Counting objects: 100% (30/30), done.\u001b[K\n",
            "remote: Compressing objects: 100% (28/28), done.\u001b[K\n",
            "remote: Total 3176 (delta 11), reused 9 (delta 1), pack-reused 3146\u001b[K\n",
            "Receiving objects: 100% (3176/3176), 916.97 MiB | 15.56 MiB/s, done.\n",
            "Resolving deltas: 100% (42/42), done.\n",
            "Checking out files: 100% (1922/1922), done.\n"
          ],
          "name": "stdout"
        }
      ]
    },
    {
      "cell_type": "code",
      "metadata": {
        "id": "JKgLEwy00dhC",
        "colab_type": "code",
        "colab": {
          "base_uri": "https://localhost:8080/",
          "height": 459
        },
        "outputId": "63e9e3a8-62e7-4f54-fcf9-8f4eecc7f4b1"
      },
      "source": [
        "# Importing packages and installing libraries\n",
        "\n",
        "import os\n",
        "%matplotlib inline\n",
        "from matplotlib import pyplot as plt\n",
        "import matplotlib.image as mpimg\n",
        "import shutil\n",
        "import random\n",
        "from numpy.random import seed\n",
        "import numpy as np\n",
        "import keras\n",
        "from keras import backend as K\n",
        "from keras.preprocessing.image import ImageDataGenerator\n",
        "from keras.models import Sequential\n",
        "from keras.layers import Conv2D, MaxPooling2D, Dropout\n",
        "from keras.layers import Activation, Flatten, Dense\n",
        "from keras import optimizers\n",
        "from keras import Model\n",
        "import tensorflow\n",
        "from sklearn.metrics import classification_report, confusion_matrix\n",
        "!pip install eli5\n",
        "import eli5\n",
        "from PIL import Image\n",
        "from IPython.display import display\n",
        "!pip install split-folders\n",
        "import split_folders"
      ],
      "execution_count": 2,
      "outputs": [
        {
          "output_type": "stream",
          "text": [
            "Using TensorFlow backend.\n"
          ],
          "name": "stderr"
        },
        {
          "output_type": "stream",
          "text": [
            "Collecting eli5\n",
            "\u001b[?25l  Downloading https://files.pythonhosted.org/packages/97/2f/c85c7d8f8548e460829971785347e14e45fa5c6617da374711dec8cb38cc/eli5-0.10.1-py2.py3-none-any.whl (105kB)\n",
            "\r\u001b[K     |███                             | 10kB 17.2MB/s eta 0:00:01\r\u001b[K     |██████▏                         | 20kB 1.8MB/s eta 0:00:01\r\u001b[K     |█████████▎                      | 30kB 2.3MB/s eta 0:00:01\r\u001b[K     |████████████▍                   | 40kB 2.5MB/s eta 0:00:01\r\u001b[K     |███████████████▌                | 51kB 2.0MB/s eta 0:00:01\r\u001b[K     |██████████████████▋             | 61kB 2.3MB/s eta 0:00:01\r\u001b[K     |█████████████████████▊          | 71kB 2.5MB/s eta 0:00:01\r\u001b[K     |████████████████████████▊       | 81kB 2.8MB/s eta 0:00:01\r\u001b[K     |███████████████████████████▉    | 92kB 2.9MB/s eta 0:00:01\r\u001b[K     |███████████████████████████████ | 102kB 2.8MB/s eta 0:00:01\r\u001b[K     |████████████████████████████████| 112kB 2.8MB/s \n",
            "\u001b[?25hRequirement already satisfied: attrs>16.0.0 in /usr/local/lib/python3.6/dist-packages (from eli5) (19.3.0)\n",
            "Requirement already satisfied: tabulate>=0.7.7 in /usr/local/lib/python3.6/dist-packages (from eli5) (0.8.7)\n",
            "Requirement already satisfied: graphviz in /usr/local/lib/python3.6/dist-packages (from eli5) (0.10.1)\n",
            "Requirement already satisfied: scikit-learn>=0.18 in /usr/local/lib/python3.6/dist-packages (from eli5) (0.22.2.post1)\n",
            "Requirement already satisfied: six in /usr/local/lib/python3.6/dist-packages (from eli5) (1.12.0)\n",
            "Requirement already satisfied: scipy in /usr/local/lib/python3.6/dist-packages (from eli5) (1.4.1)\n",
            "Requirement already satisfied: jinja2 in /usr/local/lib/python3.6/dist-packages (from eli5) (2.11.2)\n",
            "Requirement already satisfied: numpy>=1.9.0 in /usr/local/lib/python3.6/dist-packages (from eli5) (1.18.5)\n",
            "Requirement already satisfied: joblib>=0.11 in /usr/local/lib/python3.6/dist-packages (from scikit-learn>=0.18->eli5) (0.15.1)\n",
            "Requirement already satisfied: MarkupSafe>=0.23 in /usr/local/lib/python3.6/dist-packages (from jinja2->eli5) (1.1.1)\n",
            "Installing collected packages: eli5\n",
            "Successfully installed eli5-0.10.1\n"
          ],
          "name": "stdout"
        },
        {
          "output_type": "stream",
          "text": [
            "/usr/local/lib/python3.6/dist-packages/sklearn/utils/deprecation.py:144: FutureWarning: The sklearn.metrics.scorer module is  deprecated in version 0.22 and will be removed in version 0.24. The corresponding classes / functions should instead be imported from sklearn.metrics. Anything that cannot be imported from sklearn.metrics is now part of the private API.\n",
            "  warnings.warn(message, FutureWarning)\n",
            "/usr/local/lib/python3.6/dist-packages/sklearn/utils/deprecation.py:144: FutureWarning: The sklearn.feature_selection.base module is  deprecated in version 0.22 and will be removed in version 0.24. The corresponding classes / functions should instead be imported from sklearn.feature_selection. Anything that cannot be imported from sklearn.feature_selection is now part of the private API.\n",
            "  warnings.warn(message, FutureWarning)\n"
          ],
          "name": "stderr"
        },
        {
          "output_type": "stream",
          "text": [
            "Collecting split-folders\n",
            "  Downloading https://files.pythonhosted.org/packages/20/67/29dda743e6d23ac1ea3d16704d8bbb48d65faf3f1b1eaf53153b3da56c56/split_folders-0.3.1-py3-none-any.whl\n",
            "Installing collected packages: split-folders\n",
            "Successfully installed split-folders-0.3.1\n"
          ],
          "name": "stdout"
        }
      ]
    },
    {
      "cell_type": "code",
      "metadata": {
        "id": "6v8NkVBFLhIH",
        "colab_type": "code",
        "colab": {
          "base_uri": "https://localhost:8080/",
          "height": 105
        },
        "outputId": "41107d8a-1f18-4296-b6b3-d0fb3087b8b6"
      },
      "source": [
        "# Preparing balanced dataset\n",
        "# Since there are 206 covid images, we are going to use 206 normal images \n",
        "\n",
        "seed(1234)\n",
        "       \n",
        "def get_file_list(input_dir):\n",
        "    return [file for file in os.listdir(input_dir) if os.path.isfile(os.path.join(input_dir, file))]\n",
        "\n",
        "def get_random_files(file_list, N):\n",
        "    return random.sample(file_list, N)\n",
        "\n",
        "def copy_files(random_files, input_dir, output_dir):\n",
        "    for file in random_files:\n",
        "        shutil.copy(os.path.join(input_dir, file), output_dir)\n",
        "\n",
        "def select_copy_randomly(input_dir, output_dir, N):\n",
        "    file_list = get_file_list(input_dir)\n",
        "    random_files = get_random_files(file_list, N)\n",
        "    copy_files(random_files, input_dir, output_dir)\n",
        "\n",
        "def copy_directory_files(input_dir, output_dir):\n",
        "    files = get_file_list(input_dir)\n",
        "    copy_files(files, input_dir, output_dir)\n",
        "\n",
        "def file_count(dir):\n",
        "  path, dirs, files = next(os.walk(dir))\n",
        "  return len(files)\n",
        "\n",
        "input_dir_normal = 'covid-19-detection-using-x-rays/dataset_binary/normal'\n",
        "input_dir_covid = 'covid-19-detection-using-x-rays/dataset_binary/covid'\n",
        "output_dir_normal = 'datasett/normal'\n",
        "output_dir_covid = 'datasett/covid'\n",
        "\n",
        "if not os.path.exists(output_dir_normal):\n",
        "    os.makedirs(output_dir_normal)\n",
        "if not os.path.exists(output_dir_covid):\n",
        "    os.makedirs(output_dir_covid)\n",
        "    \n",
        "# Select and copy randomly 206 images from github dataset to new directory- dataset\n",
        "select_copy_randomly(input_dir_normal, output_dir_normal, 206)\n",
        "print(\"Normal files count:\")\n",
        "print(str(file_count(output_dir_normal)))\n",
        "\n",
        "# Copy all 206 images from imported github dataset to new directory - dataset\n",
        "copy_directory_files(input_dir_covid, output_dir_covid )\n",
        "print(\"Covid files count:\")\n",
        "print(str(file_count(output_dir_covid)))\n",
        "print('Done!')"
      ],
      "execution_count": 6,
      "outputs": [
        {
          "output_type": "stream",
          "text": [
            "Normal files count:\n",
            "206\n",
            "Covid files count:\n",
            "206\n",
            "Done!\n"
          ],
          "name": "stdout"
        }
      ]
    },
    {
      "cell_type": "code",
      "metadata": {
        "id": "a4QGvEDeLk3C",
        "colab_type": "code",
        "colab": {
          "base_uri": "https://localhost:8080/",
          "height": 34
        },
        "outputId": "9228d08c-9b95-4962-f671-03198fb0ba32"
      },
      "source": [
        "# Train, validation & Test set split\n",
        "\n",
        "split_folders.ratio('datasett', output=\"data\", seed=1234, ratio=(.7, .15, .15)) # for train, val, test"
      ],
      "execution_count": 8,
      "outputs": [
        {
          "output_type": "stream",
          "text": [
            "Copying files: 412 files [00:00, 620.42 files/s]\n"
          ],
          "name": "stderr"
        }
      ]
    },
    {
      "cell_type": "code",
      "metadata": {
        "id": "SEm2jtE_LqTr",
        "colab_type": "code",
        "colab": {
          "base_uri": "https://localhost:8080/",
          "height": 158
        },
        "outputId": "048ec75a-b2db-4594-92ac-3c4945e87384"
      },
      "source": [
        "# Data preparation\n",
        "\n",
        "# For reproducibility\n",
        "tensorflow.random.set_seed(1234)\n",
        "\n",
        "train_dir = 'data/train'\n",
        "validation_dir = 'data/val'\n",
        "test_dir = 'data/test'\n",
        "\n",
        "img_size = (224,224)  #as per the input image size of mobilenet\n",
        "batch_size = 32\n",
        "\n",
        "classes = sorted(os.listdir(train_dir))\n",
        "print(classes)\n",
        "\n",
        "print(\"Getting data...\")\n",
        "train_datagen = ImageDataGenerator(\n",
        "    rescale=1.0/255,\n",
        "    rotation_range=20,\n",
        "    shear_range=0.2,\n",
        "    zoom_range=0.25,\n",
        "    \n",
        "    fill_mode=\"nearest\"\n",
        "    )\n",
        "\n",
        "validation_datagen = ImageDataGenerator(rescale=1.0/255)\n",
        "test_datagen = ImageDataGenerator(rescale=1.0/255)\n",
        "\n",
        "print(\"Preparing trainig dataset...\")\n",
        "train_generator = train_datagen.flow_from_directory(\n",
        "    train_dir,\n",
        "    target_size = img_size,\n",
        "    batch_size = batch_size,\n",
        "    shuffle = True)\n",
        "\n",
        "print(\"Preparing validation dataset...\")\n",
        "validation_generator = validation_datagen.flow_from_directory(\n",
        "    validation_dir,\n",
        "    target_size = img_size,\n",
        "    batch_size = batch_size,\n",
        "    shuffle = True)\n",
        "\n",
        "print(\"Preparing test dataset...\")\n",
        "test_generator = test_datagen.flow_from_directory(\n",
        "    test_dir,\n",
        "    target_size = img_size,\n",
        "    batch_size = batch_size,\n",
        "    shuffle = False)"
      ],
      "execution_count": 9,
      "outputs": [
        {
          "output_type": "stream",
          "text": [
            "['covid', 'normal']\n",
            "Getting data...\n",
            "Preparing trainig dataset...\n",
            "Found 288 images belonging to 2 classes.\n",
            "Preparing validation dataset...\n",
            "Found 60 images belonging to 2 classes.\n",
            "Preparing test dataset...\n",
            "Found 64 images belonging to 2 classes.\n"
          ],
          "name": "stdout"
        }
      ]
    },
    {
      "cell_type": "code",
      "metadata": {
        "id": "fhuZqFV6NU-M",
        "colab_type": "code",
        "colab": {
          "base_uri": "https://localhost:8080/",
          "height": 1000
        },
        "outputId": "0273738d-b7a0-48c8-b1a7-0eee47caa605"
      },
      "source": [
        "# Mobilenet Model\n",
        "\n",
        "mobile = keras.applications.mobilenet.MobileNet();\n",
        "mobile.summary()"
      ],
      "execution_count": 10,
      "outputs": [
        {
          "output_type": "stream",
          "text": [
            "Downloading data from https://github.com/fchollet/deep-learning-models/releases/download/v0.6/mobilenet_1_0_224_tf.h5\n",
            "17227776/17225924 [==============================] - 2s 0us/step\n",
            "Model: \"mobilenet_1.00_224\"\n",
            "_________________________________________________________________\n",
            "Layer (type)                 Output Shape              Param #   \n",
            "=================================================================\n",
            "input_1 (InputLayer)         (None, 224, 224, 3)       0         \n",
            "_________________________________________________________________\n",
            "conv1_pad (ZeroPadding2D)    (None, 225, 225, 3)       0         \n",
            "_________________________________________________________________\n",
            "conv1 (Conv2D)               (None, 112, 112, 32)      864       \n",
            "_________________________________________________________________\n",
            "conv1_bn (BatchNormalization (None, 112, 112, 32)      128       \n",
            "_________________________________________________________________\n",
            "conv1_relu (ReLU)            (None, 112, 112, 32)      0         \n",
            "_________________________________________________________________\n",
            "conv_dw_1 (DepthwiseConv2D)  (None, 112, 112, 32)      288       \n",
            "_________________________________________________________________\n",
            "conv_dw_1_bn (BatchNormaliza (None, 112, 112, 32)      128       \n",
            "_________________________________________________________________\n",
            "conv_dw_1_relu (ReLU)        (None, 112, 112, 32)      0         \n",
            "_________________________________________________________________\n",
            "conv_pw_1 (Conv2D)           (None, 112, 112, 64)      2048      \n",
            "_________________________________________________________________\n",
            "conv_pw_1_bn (BatchNormaliza (None, 112, 112, 64)      256       \n",
            "_________________________________________________________________\n",
            "conv_pw_1_relu (ReLU)        (None, 112, 112, 64)      0         \n",
            "_________________________________________________________________\n",
            "conv_pad_2 (ZeroPadding2D)   (None, 113, 113, 64)      0         \n",
            "_________________________________________________________________\n",
            "conv_dw_2 (DepthwiseConv2D)  (None, 56, 56, 64)        576       \n",
            "_________________________________________________________________\n",
            "conv_dw_2_bn (BatchNormaliza (None, 56, 56, 64)        256       \n",
            "_________________________________________________________________\n",
            "conv_dw_2_relu (ReLU)        (None, 56, 56, 64)        0         \n",
            "_________________________________________________________________\n",
            "conv_pw_2 (Conv2D)           (None, 56, 56, 128)       8192      \n",
            "_________________________________________________________________\n",
            "conv_pw_2_bn (BatchNormaliza (None, 56, 56, 128)       512       \n",
            "_________________________________________________________________\n",
            "conv_pw_2_relu (ReLU)        (None, 56, 56, 128)       0         \n",
            "_________________________________________________________________\n",
            "conv_dw_3 (DepthwiseConv2D)  (None, 56, 56, 128)       1152      \n",
            "_________________________________________________________________\n",
            "conv_dw_3_bn (BatchNormaliza (None, 56, 56, 128)       512       \n",
            "_________________________________________________________________\n",
            "conv_dw_3_relu (ReLU)        (None, 56, 56, 128)       0         \n",
            "_________________________________________________________________\n",
            "conv_pw_3 (Conv2D)           (None, 56, 56, 128)       16384     \n",
            "_________________________________________________________________\n",
            "conv_pw_3_bn (BatchNormaliza (None, 56, 56, 128)       512       \n",
            "_________________________________________________________________\n",
            "conv_pw_3_relu (ReLU)        (None, 56, 56, 128)       0         \n",
            "_________________________________________________________________\n",
            "conv_pad_4 (ZeroPadding2D)   (None, 57, 57, 128)       0         \n",
            "_________________________________________________________________\n",
            "conv_dw_4 (DepthwiseConv2D)  (None, 28, 28, 128)       1152      \n",
            "_________________________________________________________________\n",
            "conv_dw_4_bn (BatchNormaliza (None, 28, 28, 128)       512       \n",
            "_________________________________________________________________\n",
            "conv_dw_4_relu (ReLU)        (None, 28, 28, 128)       0         \n",
            "_________________________________________________________________\n",
            "conv_pw_4 (Conv2D)           (None, 28, 28, 256)       32768     \n",
            "_________________________________________________________________\n",
            "conv_pw_4_bn (BatchNormaliza (None, 28, 28, 256)       1024      \n",
            "_________________________________________________________________\n",
            "conv_pw_4_relu (ReLU)        (None, 28, 28, 256)       0         \n",
            "_________________________________________________________________\n",
            "conv_dw_5 (DepthwiseConv2D)  (None, 28, 28, 256)       2304      \n",
            "_________________________________________________________________\n",
            "conv_dw_5_bn (BatchNormaliza (None, 28, 28, 256)       1024      \n",
            "_________________________________________________________________\n",
            "conv_dw_5_relu (ReLU)        (None, 28, 28, 256)       0         \n",
            "_________________________________________________________________\n",
            "conv_pw_5 (Conv2D)           (None, 28, 28, 256)       65536     \n",
            "_________________________________________________________________\n",
            "conv_pw_5_bn (BatchNormaliza (None, 28, 28, 256)       1024      \n",
            "_________________________________________________________________\n",
            "conv_pw_5_relu (ReLU)        (None, 28, 28, 256)       0         \n",
            "_________________________________________________________________\n",
            "conv_pad_6 (ZeroPadding2D)   (None, 29, 29, 256)       0         \n",
            "_________________________________________________________________\n",
            "conv_dw_6 (DepthwiseConv2D)  (None, 14, 14, 256)       2304      \n",
            "_________________________________________________________________\n",
            "conv_dw_6_bn (BatchNormaliza (None, 14, 14, 256)       1024      \n",
            "_________________________________________________________________\n",
            "conv_dw_6_relu (ReLU)        (None, 14, 14, 256)       0         \n",
            "_________________________________________________________________\n",
            "conv_pw_6 (Conv2D)           (None, 14, 14, 512)       131072    \n",
            "_________________________________________________________________\n",
            "conv_pw_6_bn (BatchNormaliza (None, 14, 14, 512)       2048      \n",
            "_________________________________________________________________\n",
            "conv_pw_6_relu (ReLU)        (None, 14, 14, 512)       0         \n",
            "_________________________________________________________________\n",
            "conv_dw_7 (DepthwiseConv2D)  (None, 14, 14, 512)       4608      \n",
            "_________________________________________________________________\n",
            "conv_dw_7_bn (BatchNormaliza (None, 14, 14, 512)       2048      \n",
            "_________________________________________________________________\n",
            "conv_dw_7_relu (ReLU)        (None, 14, 14, 512)       0         \n",
            "_________________________________________________________________\n",
            "conv_pw_7 (Conv2D)           (None, 14, 14, 512)       262144    \n",
            "_________________________________________________________________\n",
            "conv_pw_7_bn (BatchNormaliza (None, 14, 14, 512)       2048      \n",
            "_________________________________________________________________\n",
            "conv_pw_7_relu (ReLU)        (None, 14, 14, 512)       0         \n",
            "_________________________________________________________________\n",
            "conv_dw_8 (DepthwiseConv2D)  (None, 14, 14, 512)       4608      \n",
            "_________________________________________________________________\n",
            "conv_dw_8_bn (BatchNormaliza (None, 14, 14, 512)       2048      \n",
            "_________________________________________________________________\n",
            "conv_dw_8_relu (ReLU)        (None, 14, 14, 512)       0         \n",
            "_________________________________________________________________\n",
            "conv_pw_8 (Conv2D)           (None, 14, 14, 512)       262144    \n",
            "_________________________________________________________________\n",
            "conv_pw_8_bn (BatchNormaliza (None, 14, 14, 512)       2048      \n",
            "_________________________________________________________________\n",
            "conv_pw_8_relu (ReLU)        (None, 14, 14, 512)       0         \n",
            "_________________________________________________________________\n",
            "conv_dw_9 (DepthwiseConv2D)  (None, 14, 14, 512)       4608      \n",
            "_________________________________________________________________\n",
            "conv_dw_9_bn (BatchNormaliza (None, 14, 14, 512)       2048      \n",
            "_________________________________________________________________\n",
            "conv_dw_9_relu (ReLU)        (None, 14, 14, 512)       0         \n",
            "_________________________________________________________________\n",
            "conv_pw_9 (Conv2D)           (None, 14, 14, 512)       262144    \n",
            "_________________________________________________________________\n",
            "conv_pw_9_bn (BatchNormaliza (None, 14, 14, 512)       2048      \n",
            "_________________________________________________________________\n",
            "conv_pw_9_relu (ReLU)        (None, 14, 14, 512)       0         \n",
            "_________________________________________________________________\n",
            "conv_dw_10 (DepthwiseConv2D) (None, 14, 14, 512)       4608      \n",
            "_________________________________________________________________\n",
            "conv_dw_10_bn (BatchNormaliz (None, 14, 14, 512)       2048      \n",
            "_________________________________________________________________\n",
            "conv_dw_10_relu (ReLU)       (None, 14, 14, 512)       0         \n",
            "_________________________________________________________________\n",
            "conv_pw_10 (Conv2D)          (None, 14, 14, 512)       262144    \n",
            "_________________________________________________________________\n",
            "conv_pw_10_bn (BatchNormaliz (None, 14, 14, 512)       2048      \n",
            "_________________________________________________________________\n",
            "conv_pw_10_relu (ReLU)       (None, 14, 14, 512)       0         \n",
            "_________________________________________________________________\n",
            "conv_dw_11 (DepthwiseConv2D) (None, 14, 14, 512)       4608      \n",
            "_________________________________________________________________\n",
            "conv_dw_11_bn (BatchNormaliz (None, 14, 14, 512)       2048      \n",
            "_________________________________________________________________\n",
            "conv_dw_11_relu (ReLU)       (None, 14, 14, 512)       0         \n",
            "_________________________________________________________________\n",
            "conv_pw_11 (Conv2D)          (None, 14, 14, 512)       262144    \n",
            "_________________________________________________________________\n",
            "conv_pw_11_bn (BatchNormaliz (None, 14, 14, 512)       2048      \n",
            "_________________________________________________________________\n",
            "conv_pw_11_relu (ReLU)       (None, 14, 14, 512)       0         \n",
            "_________________________________________________________________\n",
            "conv_pad_12 (ZeroPadding2D)  (None, 15, 15, 512)       0         \n",
            "_________________________________________________________________\n",
            "conv_dw_12 (DepthwiseConv2D) (None, 7, 7, 512)         4608      \n",
            "_________________________________________________________________\n",
            "conv_dw_12_bn (BatchNormaliz (None, 7, 7, 512)         2048      \n",
            "_________________________________________________________________\n",
            "conv_dw_12_relu (ReLU)       (None, 7, 7, 512)         0         \n",
            "_________________________________________________________________\n",
            "conv_pw_12 (Conv2D)          (None, 7, 7, 1024)        524288    \n",
            "_________________________________________________________________\n",
            "conv_pw_12_bn (BatchNormaliz (None, 7, 7, 1024)        4096      \n",
            "_________________________________________________________________\n",
            "conv_pw_12_relu (ReLU)       (None, 7, 7, 1024)        0         \n",
            "_________________________________________________________________\n",
            "conv_dw_13 (DepthwiseConv2D) (None, 7, 7, 1024)        9216      \n",
            "_________________________________________________________________\n",
            "conv_dw_13_bn (BatchNormaliz (None, 7, 7, 1024)        4096      \n",
            "_________________________________________________________________\n",
            "conv_dw_13_relu (ReLU)       (None, 7, 7, 1024)        0         \n",
            "_________________________________________________________________\n",
            "conv_pw_13 (Conv2D)          (None, 7, 7, 1024)        1048576   \n",
            "_________________________________________________________________\n",
            "conv_pw_13_bn (BatchNormaliz (None, 7, 7, 1024)        4096      \n",
            "_________________________________________________________________\n",
            "conv_pw_13_relu (ReLU)       (None, 7, 7, 1024)        0         \n",
            "_________________________________________________________________\n",
            "global_average_pooling2d_1 ( (None, 1024)              0         \n",
            "_________________________________________________________________\n",
            "reshape_1 (Reshape)          (None, 1, 1, 1024)        0         \n",
            "_________________________________________________________________\n",
            "dropout (Dropout)            (None, 1, 1, 1024)        0         \n",
            "_________________________________________________________________\n",
            "conv_preds (Conv2D)          (None, 1, 1, 1000)        1025000   \n",
            "_________________________________________________________________\n",
            "reshape_2 (Reshape)          (None, 1000)              0         \n",
            "_________________________________________________________________\n",
            "act_softmax (Activation)     (None, 1000)              0         \n",
            "=================================================================\n",
            "Total params: 4,253,864\n",
            "Trainable params: 4,231,976\n",
            "Non-trainable params: 21,888\n",
            "_________________________________________________________________\n"
          ],
          "name": "stdout"
        }
      ]
    },
    {
      "cell_type": "code",
      "metadata": {
        "id": "WDMBbJxwNs3X",
        "colab_type": "code",
        "colab": {
          "base_uri": "https://localhost:8080/",
          "height": 1000
        },
        "outputId": "d706ad24-65b1-4fab-89ed-d452de9f900b"
      },
      "source": [
        "# Adding layers to classify our images and modify it by not including last five layers of mobile net;\n",
        "\n",
        "x = mobile.layers[-6].output\n",
        "predictions = Dense(2, activation='softmax')(x)\n",
        "model = Model(inputs = mobile.input, outputs = predictions)\n",
        "model.summary()"
      ],
      "execution_count": 11,
      "outputs": [
        {
          "output_type": "stream",
          "text": [
            "Model: \"model_1\"\n",
            "_________________________________________________________________\n",
            "Layer (type)                 Output Shape              Param #   \n",
            "=================================================================\n",
            "input_1 (InputLayer)         (None, 224, 224, 3)       0         \n",
            "_________________________________________________________________\n",
            "conv1_pad (ZeroPadding2D)    (None, 225, 225, 3)       0         \n",
            "_________________________________________________________________\n",
            "conv1 (Conv2D)               (None, 112, 112, 32)      864       \n",
            "_________________________________________________________________\n",
            "conv1_bn (BatchNormalization (None, 112, 112, 32)      128       \n",
            "_________________________________________________________________\n",
            "conv1_relu (ReLU)            (None, 112, 112, 32)      0         \n",
            "_________________________________________________________________\n",
            "conv_dw_1 (DepthwiseConv2D)  (None, 112, 112, 32)      288       \n",
            "_________________________________________________________________\n",
            "conv_dw_1_bn (BatchNormaliza (None, 112, 112, 32)      128       \n",
            "_________________________________________________________________\n",
            "conv_dw_1_relu (ReLU)        (None, 112, 112, 32)      0         \n",
            "_________________________________________________________________\n",
            "conv_pw_1 (Conv2D)           (None, 112, 112, 64)      2048      \n",
            "_________________________________________________________________\n",
            "conv_pw_1_bn (BatchNormaliza (None, 112, 112, 64)      256       \n",
            "_________________________________________________________________\n",
            "conv_pw_1_relu (ReLU)        (None, 112, 112, 64)      0         \n",
            "_________________________________________________________________\n",
            "conv_pad_2 (ZeroPadding2D)   (None, 113, 113, 64)      0         \n",
            "_________________________________________________________________\n",
            "conv_dw_2 (DepthwiseConv2D)  (None, 56, 56, 64)        576       \n",
            "_________________________________________________________________\n",
            "conv_dw_2_bn (BatchNormaliza (None, 56, 56, 64)        256       \n",
            "_________________________________________________________________\n",
            "conv_dw_2_relu (ReLU)        (None, 56, 56, 64)        0         \n",
            "_________________________________________________________________\n",
            "conv_pw_2 (Conv2D)           (None, 56, 56, 128)       8192      \n",
            "_________________________________________________________________\n",
            "conv_pw_2_bn (BatchNormaliza (None, 56, 56, 128)       512       \n",
            "_________________________________________________________________\n",
            "conv_pw_2_relu (ReLU)        (None, 56, 56, 128)       0         \n",
            "_________________________________________________________________\n",
            "conv_dw_3 (DepthwiseConv2D)  (None, 56, 56, 128)       1152      \n",
            "_________________________________________________________________\n",
            "conv_dw_3_bn (BatchNormaliza (None, 56, 56, 128)       512       \n",
            "_________________________________________________________________\n",
            "conv_dw_3_relu (ReLU)        (None, 56, 56, 128)       0         \n",
            "_________________________________________________________________\n",
            "conv_pw_3 (Conv2D)           (None, 56, 56, 128)       16384     \n",
            "_________________________________________________________________\n",
            "conv_pw_3_bn (BatchNormaliza (None, 56, 56, 128)       512       \n",
            "_________________________________________________________________\n",
            "conv_pw_3_relu (ReLU)        (None, 56, 56, 128)       0         \n",
            "_________________________________________________________________\n",
            "conv_pad_4 (ZeroPadding2D)   (None, 57, 57, 128)       0         \n",
            "_________________________________________________________________\n",
            "conv_dw_4 (DepthwiseConv2D)  (None, 28, 28, 128)       1152      \n",
            "_________________________________________________________________\n",
            "conv_dw_4_bn (BatchNormaliza (None, 28, 28, 128)       512       \n",
            "_________________________________________________________________\n",
            "conv_dw_4_relu (ReLU)        (None, 28, 28, 128)       0         \n",
            "_________________________________________________________________\n",
            "conv_pw_4 (Conv2D)           (None, 28, 28, 256)       32768     \n",
            "_________________________________________________________________\n",
            "conv_pw_4_bn (BatchNormaliza (None, 28, 28, 256)       1024      \n",
            "_________________________________________________________________\n",
            "conv_pw_4_relu (ReLU)        (None, 28, 28, 256)       0         \n",
            "_________________________________________________________________\n",
            "conv_dw_5 (DepthwiseConv2D)  (None, 28, 28, 256)       2304      \n",
            "_________________________________________________________________\n",
            "conv_dw_5_bn (BatchNormaliza (None, 28, 28, 256)       1024      \n",
            "_________________________________________________________________\n",
            "conv_dw_5_relu (ReLU)        (None, 28, 28, 256)       0         \n",
            "_________________________________________________________________\n",
            "conv_pw_5 (Conv2D)           (None, 28, 28, 256)       65536     \n",
            "_________________________________________________________________\n",
            "conv_pw_5_bn (BatchNormaliza (None, 28, 28, 256)       1024      \n",
            "_________________________________________________________________\n",
            "conv_pw_5_relu (ReLU)        (None, 28, 28, 256)       0         \n",
            "_________________________________________________________________\n",
            "conv_pad_6 (ZeroPadding2D)   (None, 29, 29, 256)       0         \n",
            "_________________________________________________________________\n",
            "conv_dw_6 (DepthwiseConv2D)  (None, 14, 14, 256)       2304      \n",
            "_________________________________________________________________\n",
            "conv_dw_6_bn (BatchNormaliza (None, 14, 14, 256)       1024      \n",
            "_________________________________________________________________\n",
            "conv_dw_6_relu (ReLU)        (None, 14, 14, 256)       0         \n",
            "_________________________________________________________________\n",
            "conv_pw_6 (Conv2D)           (None, 14, 14, 512)       131072    \n",
            "_________________________________________________________________\n",
            "conv_pw_6_bn (BatchNormaliza (None, 14, 14, 512)       2048      \n",
            "_________________________________________________________________\n",
            "conv_pw_6_relu (ReLU)        (None, 14, 14, 512)       0         \n",
            "_________________________________________________________________\n",
            "conv_dw_7 (DepthwiseConv2D)  (None, 14, 14, 512)       4608      \n",
            "_________________________________________________________________\n",
            "conv_dw_7_bn (BatchNormaliza (None, 14, 14, 512)       2048      \n",
            "_________________________________________________________________\n",
            "conv_dw_7_relu (ReLU)        (None, 14, 14, 512)       0         \n",
            "_________________________________________________________________\n",
            "conv_pw_7 (Conv2D)           (None, 14, 14, 512)       262144    \n",
            "_________________________________________________________________\n",
            "conv_pw_7_bn (BatchNormaliza (None, 14, 14, 512)       2048      \n",
            "_________________________________________________________________\n",
            "conv_pw_7_relu (ReLU)        (None, 14, 14, 512)       0         \n",
            "_________________________________________________________________\n",
            "conv_dw_8 (DepthwiseConv2D)  (None, 14, 14, 512)       4608      \n",
            "_________________________________________________________________\n",
            "conv_dw_8_bn (BatchNormaliza (None, 14, 14, 512)       2048      \n",
            "_________________________________________________________________\n",
            "conv_dw_8_relu (ReLU)        (None, 14, 14, 512)       0         \n",
            "_________________________________________________________________\n",
            "conv_pw_8 (Conv2D)           (None, 14, 14, 512)       262144    \n",
            "_________________________________________________________________\n",
            "conv_pw_8_bn (BatchNormaliza (None, 14, 14, 512)       2048      \n",
            "_________________________________________________________________\n",
            "conv_pw_8_relu (ReLU)        (None, 14, 14, 512)       0         \n",
            "_________________________________________________________________\n",
            "conv_dw_9 (DepthwiseConv2D)  (None, 14, 14, 512)       4608      \n",
            "_________________________________________________________________\n",
            "conv_dw_9_bn (BatchNormaliza (None, 14, 14, 512)       2048      \n",
            "_________________________________________________________________\n",
            "conv_dw_9_relu (ReLU)        (None, 14, 14, 512)       0         \n",
            "_________________________________________________________________\n",
            "conv_pw_9 (Conv2D)           (None, 14, 14, 512)       262144    \n",
            "_________________________________________________________________\n",
            "conv_pw_9_bn (BatchNormaliza (None, 14, 14, 512)       2048      \n",
            "_________________________________________________________________\n",
            "conv_pw_9_relu (ReLU)        (None, 14, 14, 512)       0         \n",
            "_________________________________________________________________\n",
            "conv_dw_10 (DepthwiseConv2D) (None, 14, 14, 512)       4608      \n",
            "_________________________________________________________________\n",
            "conv_dw_10_bn (BatchNormaliz (None, 14, 14, 512)       2048      \n",
            "_________________________________________________________________\n",
            "conv_dw_10_relu (ReLU)       (None, 14, 14, 512)       0         \n",
            "_________________________________________________________________\n",
            "conv_pw_10 (Conv2D)          (None, 14, 14, 512)       262144    \n",
            "_________________________________________________________________\n",
            "conv_pw_10_bn (BatchNormaliz (None, 14, 14, 512)       2048      \n",
            "_________________________________________________________________\n",
            "conv_pw_10_relu (ReLU)       (None, 14, 14, 512)       0         \n",
            "_________________________________________________________________\n",
            "conv_dw_11 (DepthwiseConv2D) (None, 14, 14, 512)       4608      \n",
            "_________________________________________________________________\n",
            "conv_dw_11_bn (BatchNormaliz (None, 14, 14, 512)       2048      \n",
            "_________________________________________________________________\n",
            "conv_dw_11_relu (ReLU)       (None, 14, 14, 512)       0         \n",
            "_________________________________________________________________\n",
            "conv_pw_11 (Conv2D)          (None, 14, 14, 512)       262144    \n",
            "_________________________________________________________________\n",
            "conv_pw_11_bn (BatchNormaliz (None, 14, 14, 512)       2048      \n",
            "_________________________________________________________________\n",
            "conv_pw_11_relu (ReLU)       (None, 14, 14, 512)       0         \n",
            "_________________________________________________________________\n",
            "conv_pad_12 (ZeroPadding2D)  (None, 15, 15, 512)       0         \n",
            "_________________________________________________________________\n",
            "conv_dw_12 (DepthwiseConv2D) (None, 7, 7, 512)         4608      \n",
            "_________________________________________________________________\n",
            "conv_dw_12_bn (BatchNormaliz (None, 7, 7, 512)         2048      \n",
            "_________________________________________________________________\n",
            "conv_dw_12_relu (ReLU)       (None, 7, 7, 512)         0         \n",
            "_________________________________________________________________\n",
            "conv_pw_12 (Conv2D)          (None, 7, 7, 1024)        524288    \n",
            "_________________________________________________________________\n",
            "conv_pw_12_bn (BatchNormaliz (None, 7, 7, 1024)        4096      \n",
            "_________________________________________________________________\n",
            "conv_pw_12_relu (ReLU)       (None, 7, 7, 1024)        0         \n",
            "_________________________________________________________________\n",
            "conv_dw_13 (DepthwiseConv2D) (None, 7, 7, 1024)        9216      \n",
            "_________________________________________________________________\n",
            "conv_dw_13_bn (BatchNormaliz (None, 7, 7, 1024)        4096      \n",
            "_________________________________________________________________\n",
            "conv_dw_13_relu (ReLU)       (None, 7, 7, 1024)        0         \n",
            "_________________________________________________________________\n",
            "conv_pw_13 (Conv2D)          (None, 7, 7, 1024)        1048576   \n",
            "_________________________________________________________________\n",
            "conv_pw_13_bn (BatchNormaliz (None, 7, 7, 1024)        4096      \n",
            "_________________________________________________________________\n",
            "conv_pw_13_relu (ReLU)       (None, 7, 7, 1024)        0         \n",
            "_________________________________________________________________\n",
            "global_average_pooling2d_1 ( (None, 1024)              0         \n",
            "_________________________________________________________________\n",
            "dense_1 (Dense)              (None, 2)                 2050      \n",
            "=================================================================\n",
            "Total params: 3,230,914\n",
            "Trainable params: 3,209,026\n",
            "Non-trainable params: 21,888\n",
            "_________________________________________________________________\n"
          ],
          "name": "stdout"
        }
      ]
    },
    {
      "cell_type": "code",
      "metadata": {
        "id": "6tJKeGSVO0DA",
        "colab_type": "code",
        "colab": {
          "base_uri": "https://localhost:8080/",
          "height": 1000
        },
        "outputId": "812cb253-295b-426e-c295-2115e88d2795"
      },
      "source": [
        "# Fine tuning:\n",
        "# freezing all the layers except last 24 layers\n",
        "# It means only the last 24 layers will be trained\n",
        "for layer in model.layers[:-24]:\n",
        "  layer.trainable = False\n",
        "\n",
        "#View trainable layers \n",
        "for layer in model.layers:\n",
        "  print(\"{0}:\\t{1}\".format(layer.trainable, layer.name))"
      ],
      "execution_count": 12,
      "outputs": [
        {
          "output_type": "stream",
          "text": [
            "False:\tinput_1\n",
            "False:\tconv1_pad\n",
            "False:\tconv1\n",
            "False:\tconv1_bn\n",
            "False:\tconv1_relu\n",
            "False:\tconv_dw_1\n",
            "False:\tconv_dw_1_bn\n",
            "False:\tconv_dw_1_relu\n",
            "False:\tconv_pw_1\n",
            "False:\tconv_pw_1_bn\n",
            "False:\tconv_pw_1_relu\n",
            "False:\tconv_pad_2\n",
            "False:\tconv_dw_2\n",
            "False:\tconv_dw_2_bn\n",
            "False:\tconv_dw_2_relu\n",
            "False:\tconv_pw_2\n",
            "False:\tconv_pw_2_bn\n",
            "False:\tconv_pw_2_relu\n",
            "False:\tconv_dw_3\n",
            "False:\tconv_dw_3_bn\n",
            "False:\tconv_dw_3_relu\n",
            "False:\tconv_pw_3\n",
            "False:\tconv_pw_3_bn\n",
            "False:\tconv_pw_3_relu\n",
            "False:\tconv_pad_4\n",
            "False:\tconv_dw_4\n",
            "False:\tconv_dw_4_bn\n",
            "False:\tconv_dw_4_relu\n",
            "False:\tconv_pw_4\n",
            "False:\tconv_pw_4_bn\n",
            "False:\tconv_pw_4_relu\n",
            "False:\tconv_dw_5\n",
            "False:\tconv_dw_5_bn\n",
            "False:\tconv_dw_5_relu\n",
            "False:\tconv_pw_5\n",
            "False:\tconv_pw_5_bn\n",
            "False:\tconv_pw_5_relu\n",
            "False:\tconv_pad_6\n",
            "False:\tconv_dw_6\n",
            "False:\tconv_dw_6_bn\n",
            "False:\tconv_dw_6_relu\n",
            "False:\tconv_pw_6\n",
            "False:\tconv_pw_6_bn\n",
            "False:\tconv_pw_6_relu\n",
            "False:\tconv_dw_7\n",
            "False:\tconv_dw_7_bn\n",
            "False:\tconv_dw_7_relu\n",
            "False:\tconv_pw_7\n",
            "False:\tconv_pw_7_bn\n",
            "False:\tconv_pw_7_relu\n",
            "False:\tconv_dw_8\n",
            "False:\tconv_dw_8_bn\n",
            "False:\tconv_dw_8_relu\n",
            "False:\tconv_pw_8\n",
            "False:\tconv_pw_8_bn\n",
            "False:\tconv_pw_8_relu\n",
            "False:\tconv_dw_9\n",
            "False:\tconv_dw_9_bn\n",
            "False:\tconv_dw_9_relu\n",
            "False:\tconv_pw_9\n",
            "False:\tconv_pw_9_bn\n",
            "False:\tconv_pw_9_relu\n",
            "False:\tconv_dw_10\n",
            "False:\tconv_dw_10_bn\n",
            "False:\tconv_dw_10_relu\n",
            "True:\tconv_pw_10\n",
            "True:\tconv_pw_10_bn\n",
            "True:\tconv_pw_10_relu\n",
            "True:\tconv_dw_11\n",
            "True:\tconv_dw_11_bn\n",
            "True:\tconv_dw_11_relu\n",
            "True:\tconv_pw_11\n",
            "True:\tconv_pw_11_bn\n",
            "True:\tconv_pw_11_relu\n",
            "True:\tconv_pad_12\n",
            "True:\tconv_dw_12\n",
            "True:\tconv_dw_12_bn\n",
            "True:\tconv_dw_12_relu\n",
            "True:\tconv_pw_12\n",
            "True:\tconv_pw_12_bn\n",
            "True:\tconv_pw_12_relu\n",
            "True:\tconv_dw_13\n",
            "True:\tconv_dw_13_bn\n",
            "True:\tconv_dw_13_relu\n",
            "True:\tconv_pw_13\n",
            "True:\tconv_pw_13_bn\n",
            "True:\tconv_pw_13_relu\n",
            "True:\tglobal_average_pooling2d_1\n",
            "True:\tdense_1\n"
          ],
          "name": "stdout"
        }
      ]
    },
    {
      "cell_type": "code",
      "metadata": {
        "id": "DquhLOjAXiQ-",
        "colab_type": "code",
        "colab": {
          "base_uri": "https://localhost:8080/",
          "height": 1000
        },
        "outputId": "fad2e1e4-f5ed-4f67-9307-88cb1a57cc43"
      },
      "source": [
        "# Compile\n",
        "opt = keras.optimizers.Adam\n",
        "model.compile(optimizer= opt(lr = 1e-5), \n",
        "              loss=\"categorical_crossentropy\", \n",
        "              metrics=[\"acc\"])\n",
        "\n",
        "# Train\n",
        "steps_per_epoch = np.ceil(train_generator.samples/train_generator.batch_size)\n",
        "val_steps_per_epoch = np.ceil(validation_generator.samples/validation_generator.batch_size)\n",
        "num_epochs = 30\n",
        "history = model.fit(\n",
        "    train_generator, \n",
        "    epochs=num_epochs,\n",
        "    verbose=1,\n",
        "    steps_per_epoch=steps_per_epoch,\n",
        "    validation_data=validation_generator,\n",
        "    validation_steps=val_steps_per_epoch)"
      ],
      "execution_count": 13,
      "outputs": [
        {
          "output_type": "stream",
          "text": [
            "Epoch 1/30\n",
            "9/9 [==============================] - 16s 2s/step - loss: 0.7475 - acc: 0.5972 - val_loss: 0.3740 - val_acc: 0.9000\n",
            "Epoch 2/30\n",
            "9/9 [==============================] - 11s 1s/step - loss: 0.4903 - acc: 0.7917 - val_loss: 0.3189 - val_acc: 0.9667\n",
            "Epoch 3/30\n",
            "9/9 [==============================] - 12s 1s/step - loss: 0.3073 - acc: 0.8993 - val_loss: 0.2467 - val_acc: 0.9667\n",
            "Epoch 4/30\n",
            "9/9 [==============================] - 12s 1s/step - loss: 0.2618 - acc: 0.9201 - val_loss: 0.2185 - val_acc: 0.9833\n",
            "Epoch 5/30\n",
            "9/9 [==============================] - 12s 1s/step - loss: 0.1751 - acc: 0.9549 - val_loss: 0.2249 - val_acc: 0.9833\n",
            "Epoch 6/30\n",
            "9/9 [==============================] - 12s 1s/step - loss: 0.1539 - acc: 0.9653 - val_loss: 0.1771 - val_acc: 0.9667\n",
            "Epoch 7/30\n",
            "9/9 [==============================] - 12s 1s/step - loss: 0.1609 - acc: 0.9410 - val_loss: 0.1873 - val_acc: 0.9667\n",
            "Epoch 8/30\n",
            "9/9 [==============================] - 12s 1s/step - loss: 0.1158 - acc: 0.9653 - val_loss: 0.1838 - val_acc: 0.9667\n",
            "Epoch 9/30\n",
            "9/9 [==============================] - 12s 1s/step - loss: 0.0895 - acc: 0.9826 - val_loss: 0.1497 - val_acc: 0.9667\n",
            "Epoch 10/30\n",
            "9/9 [==============================] - 12s 1s/step - loss: 0.0954 - acc: 0.9826 - val_loss: 0.1406 - val_acc: 0.9667\n",
            "Epoch 11/30\n",
            "9/9 [==============================] - 12s 1s/step - loss: 0.0800 - acc: 0.9896 - val_loss: 0.1700 - val_acc: 0.9667\n",
            "Epoch 12/30\n",
            "9/9 [==============================] - 12s 1s/step - loss: 0.0718 - acc: 0.9861 - val_loss: 0.1600 - val_acc: 0.9667\n",
            "Epoch 13/30\n",
            "9/9 [==============================] - 12s 1s/step - loss: 0.0708 - acc: 0.9826 - val_loss: 0.1946 - val_acc: 0.9667\n",
            "Epoch 14/30\n",
            "9/9 [==============================] - 12s 1s/step - loss: 0.0673 - acc: 0.9826 - val_loss: 0.1550 - val_acc: 0.9667\n",
            "Epoch 15/30\n",
            "9/9 [==============================] - 12s 1s/step - loss: 0.0561 - acc: 0.9896 - val_loss: 0.1282 - val_acc: 0.9667\n",
            "Epoch 16/30\n",
            "9/9 [==============================] - 12s 1s/step - loss: 0.0654 - acc: 0.9792 - val_loss: 0.1915 - val_acc: 0.9667\n",
            "Epoch 17/30\n",
            "9/9 [==============================] - 12s 1s/step - loss: 0.0484 - acc: 0.9896 - val_loss: 0.1641 - val_acc: 0.9667\n",
            "Epoch 18/30\n",
            "9/9 [==============================] - 12s 1s/step - loss: 0.0729 - acc: 0.9931 - val_loss: 0.1215 - val_acc: 0.9667\n",
            "Epoch 19/30\n",
            "9/9 [==============================] - 12s 1s/step - loss: 0.0528 - acc: 0.9896 - val_loss: 0.0978 - val_acc: 0.9667\n",
            "Epoch 20/30\n",
            "9/9 [==============================] - 12s 1s/step - loss: 0.0561 - acc: 0.9896 - val_loss: 0.0903 - val_acc: 0.9667\n",
            "Epoch 21/30\n",
            "9/9 [==============================] - 12s 1s/step - loss: 0.0499 - acc: 0.9861 - val_loss: 0.1333 - val_acc: 0.9667\n",
            "Epoch 22/30\n",
            "9/9 [==============================] - 12s 1s/step - loss: 0.0564 - acc: 0.9826 - val_loss: 0.1289 - val_acc: 0.9667\n",
            "Epoch 23/30\n",
            "9/9 [==============================] - 12s 1s/step - loss: 0.0486 - acc: 0.9861 - val_loss: 0.1904 - val_acc: 0.9667\n",
            "Epoch 24/30\n",
            "9/9 [==============================] - 12s 1s/step - loss: 0.0682 - acc: 0.9826 - val_loss: 0.0615 - val_acc: 0.9667\n",
            "Epoch 25/30\n",
            "9/9 [==============================] - 12s 1s/step - loss: 0.0525 - acc: 0.9826 - val_loss: 0.1699 - val_acc: 0.9667\n",
            "Epoch 26/30\n",
            "9/9 [==============================] - 12s 1s/step - loss: 0.0307 - acc: 0.9931 - val_loss: 0.0853 - val_acc: 0.9667\n",
            "Epoch 27/30\n",
            "9/9 [==============================] - 12s 1s/step - loss: 0.0359 - acc: 0.9931 - val_loss: 0.0689 - val_acc: 0.9667\n",
            "Epoch 28/30\n",
            "9/9 [==============================] - 12s 1s/step - loss: 0.0391 - acc: 0.9861 - val_loss: 0.1366 - val_acc: 0.9667\n",
            "Epoch 29/30\n",
            "9/9 [==============================] - 12s 1s/step - loss: 0.0267 - acc: 0.9931 - val_loss: 0.0520 - val_acc: 0.9667\n",
            "Epoch 30/30\n",
            "9/9 [==============================] - 12s 1s/step - loss: 0.0318 - acc: 0.9931 - val_loss: 0.1037 - val_acc: 0.9667\n"
          ],
          "name": "stdout"
        }
      ]
    },
    {
      "cell_type": "code",
      "metadata": {
        "id": "roAE8Uw5c9fp",
        "colab_type": "code",
        "colab": {
          "base_uri": "https://localhost:8080/",
          "height": 279
        },
        "outputId": "346eb926-fa2a-4241-e9bb-8932d3d0e7c4"
      },
      "source": [
        "# Plot of training history: loss and accuracy\n",
        "\n",
        "%matplotlib inline\n",
        "from matplotlib import pyplot as plt\n",
        "\n",
        "epoch_nums = range(1,num_epochs+1)\n",
        "training_loss = history.history[\"loss\"]\n",
        "validation_loss = history.history[\"val_loss\"]\n",
        "plt.figure(1)\n",
        "plt.subplot(211)\n",
        "plt.plot(epoch_nums, training_loss)\n",
        "plt.plot(epoch_nums, validation_loss)\n",
        "plt.xlabel('Epoch')\n",
        "plt.ylabel('Loss')\n",
        "plt.legend(['training', 'validation'], loc='upper right')\n",
        "\n",
        "epoch_nums = range(1,num_epochs+1)\n",
        "training_accuracy = history.history[\"acc\"]\n",
        "validation_accuracy = history.history[\"val_acc\"]\n",
        "plt.subplot(212)\n",
        "plt.plot(epoch_nums, training_accuracy)\n",
        "plt.plot(epoch_nums, validation_accuracy)\n",
        "plt.xlabel('Epoch')\n",
        "plt.ylabel('Accuracy')\n",
        "plt.legend(['training', 'validation'], loc='lower right')\n",
        "plt.show()"
      ],
      "execution_count": 14,
      "outputs": [
        {
          "output_type": "display_data",
          "data": {
            "image/png": "[encoded data removed]",
            "text/plain": [
              "<Figure size 432x288 with 2 Axes>"
            ]
          },
          "metadata": {
            "tags": [],
            "needs_background": "light"
          }
        }
      ]
    },
    {
      "cell_type": "code",
      "metadata": {
        "id": "hQaljBlyaZQV",
        "colab_type": "code",
        "colab": {
          "base_uri": "https://localhost:8080/",
          "height": 70
        },
        "outputId": "6c64736b-88ef-49cc-f7c7-8ee81bb3af79"
      },
      "source": [
        "# Measure accuracy and loss on test data\n",
        "test_steps_per_epoch = np.ceil(test_generator.samples/test_generator.batch_size)\n",
        "\n",
        "test_loss, test_accuracy = model.evaluate(test_generator, steps = test_steps_per_epoch)\n",
        "print(\"Test loss: {:.2f}\".format(test_loss))\n",
        "print(\"Test accuracy: {:.2f}%\".format(test_accuracy * 100))"
      ],
      "execution_count": 15,
      "outputs": [
        {
          "output_type": "stream",
          "text": [
            "2/2 [==============================] - 2s 821ms/step\n",
            "Test loss: 0.06\n",
            "Test accuracy: 100.00%\n"
          ],
          "name": "stdout"
        }
      ]
    },
    {
      "cell_type": "code",
      "metadata": {
        "id": "7SCUcpq1dTNw",
        "colab_type": "code",
        "colab": {
          "base_uri": "https://localhost:8080/",
          "height": 643
        },
        "outputId": "d7062a4b-e6f9-4b5c-e0c2-c6ed156d87b1"
      },
      "source": [
        "# Confusion matrix and classification report\n",
        "\n",
        "def plot_confusion_matrix(cm,\n",
        "                          target_names,\n",
        "                          title='Confusion matrix',\n",
        "                          cmap=None,\n",
        "                          normalize=False):\n",
        "    \n",
        "\n",
        "    import matplotlib.pyplot as plt\n",
        "    import numpy as np\n",
        "    import itertools\n",
        "\n",
        "    accuracy = np.trace(cm) / float(np.sum(cm))\n",
        "    misclass = 1 - accuracy\n",
        "\n",
        "    if cmap is None:\n",
        "        cmap = plt.get_cmap('Blues')\n",
        "\n",
        "    plt.figure(figsize=(8, 6))\n",
        "    plt.imshow(cm, interpolation='nearest', cmap=cmap)\n",
        "    plt.title(title)\n",
        "    plt.colorbar()\n",
        "\n",
        "    if target_names is not None:\n",
        "        tick_marks = np.arange(len(target_names))\n",
        "        plt.xticks(tick_marks, target_names, rotation=45)\n",
        "        plt.yticks(tick_marks, target_names)\n",
        "\n",
        "    if normalize:\n",
        "        cm = cm.astype('float') / cm.sum(axis=1)[:, np.newaxis]\n",
        "\n",
        "\n",
        "    thresh = cm.max() / 1.5 if normalize else cm.max() / 2\n",
        "    for i, j in itertools.product(range(cm.shape[0]), range(cm.shape[1])):\n",
        "        if normalize:\n",
        "            plt.text(j, i, \"{:0.4f}\".format(cm[i, j]),\n",
        "                     horizontalalignment=\"center\",\n",
        "                     color=\"white\" if cm[i, j] > thresh else \"black\")\n",
        "        else:\n",
        "            plt.text(j, i, \"{:,}\".format(cm[i, j]),\n",
        "                     horizontalalignment=\"center\",\n",
        "                     color=\"white\" if cm[i, j] > thresh else \"black\")\n",
        "\n",
        "\n",
        "    plt.tight_layout()\n",
        "    plt.ylabel('True label')\n",
        "    plt.xlabel('Predicted label\\naccuracy={:0.4f}; misclass={:0.4f}'.format(accuracy, misclass))\n",
        "    plt.show()\n",
        "\n",
        "Predictions = model.predict_generator(test_generator, steps= test_steps_per_epoch, verbose=0)\n",
        "predictions = Predictions.argmax(axis=1)\n",
        "test_labels = test_generator.classes\n",
        "cm = confusion_matrix(test_labels, predictions)\n",
        "cm_plot_labels = list(train_generator.class_indices)\n",
        "plot_confusion_matrix(cm, cm_plot_labels, title = 'Confusion Matrix')\n",
        "\n",
        "print('Classification Report:')\n",
        "target_names = list(train_generator.class_indices)\n",
        "print(classification_report(test_generator.classes, predictions, target_names=target_names))"
      ],
      "execution_count": 16,
      "outputs": [
        {
          "output_type": "display_data",
          "data": {
            "image/png": "[encoded data removed]",
            "text/plain": [
              "<Figure size 576x432 with 2 Axes>"
            ]
          },
          "metadata": {
            "tags": [],
            "needs_background": "light"
          }
        },
        {
          "output_type": "stream",
          "text": [
            "Classification Report:\n",
            "              precision    recall  f1-score   support\n",
            "\n",
            "       covid       1.00      1.00      1.00        32\n",
            "      normal       1.00      1.00      1.00        32\n",
            "\n",
            "    accuracy                           1.00        64\n",
            "   macro avg       1.00      1.00      1.00        64\n",
            "weighted avg       1.00      1.00      1.00        64\n",
            "\n"
          ],
          "name": "stdout"
        }
      ]
    },
    {
      "cell_type": "code",
      "metadata": {
        "id": "dzJTt5wmf_uN",
        "colab_type": "code",
        "colab": {
          "base_uri": "https://localhost:8080/",
          "height": 606
        },
        "outputId": "999a5bda-fe72-4749-bf3f-fb2181da97f2"
      },
      "source": [
        "#Prediction and Heatmap\n",
        "\n",
        "# # check the input format\n",
        "print(model.input_shape)\n",
        "dims = model.input_shape[1:3] # -> (height, width)\n",
        "print(dims)\n",
        "\n",
        "image = '/content/data/test/covid/figure1-5e75d0940b71e1b702629659-98-right.jpeg'\n",
        "\n",
        "im = keras.preprocessing.image.load_img(image, target_size=dims) # -> PIL image\n",
        "print(\"Test Image\")\n",
        "display(im)\n",
        "doc = keras.preprocessing.image.img_to_array(im) # -> numpy array\n",
        "\n",
        "doc = np.expand_dims(doc, axis=0)\n",
        "\n",
        "# make a prediction about our sample image\n",
        "predictions = model.predict(doc)\n",
        "\n",
        "classes = train_generator.class_indices\n",
        "print(classes)\n",
        "print(\"Prediction confidence:\")\n",
        "print(predictions)\n",
        "\n",
        "#But how did the network know that? Let’s check where the model “looked” for a dog with ELI5:\n",
        "print(\"\\nHeat map of Test Image\")\n",
        "eli5.show_prediction(model, doc)"
      ],
      "execution_count": 64,
      "outputs": [
        {
          "output_type": "stream",
          "text": [
            "(None, 224, 224, 3)\n",
            "(224, 224)\n",
            "Test Image\n"
          ],
          "name": "stdout"
        },
        {
          "output_type": "display_data",
          "data": {
            "image/png": "[encoded data removed]",
            "text/plain": [
              "<PIL.Image.Image image mode=RGB size=224x224 at 0x7F788A8B1E10>"
            ]
          },
          "metadata": {
            "tags": []
          }
        },
        {
          "output_type": "stream",
          "text": [
            "{'covid': 0, 'normal': 1}\n",
            "Prediction confidence:\n",
            "[[0.90585035 0.09414968]]\n",
            "\n",
            "Heat map of Test Image\n"
          ],
          "name": "stdout"
        },
        {
          "output_type": "execute_result",
          "data": {
            "image/png": "[encoded data removed]",
            "text/plain": [
              "<PIL.Image.Image image mode=RGBA size=224x224 at 0x7F78890A56A0>"
            ]
          },
          "metadata": {
            "tags": []
          },
          "execution_count": 64
        }
      ]
    },
    {
      "cell_type": "code",
      "metadata": {
        "id": "t2TUF71GizV0",
        "colab_type": "code",
        "colab": {
          "base_uri": "https://localhost:8080/",
          "height": 52
        },
        "outputId": "a04ea05c-6cd8-416f-fe0d-6299a7c75b00"
      },
      "source": [
        "# Utility function for obtaining of the errors \n",
        "\n",
        "def obtain_errors(test_gen, predictions):\n",
        "    # Get the filenames from the generator\n",
        "    fnames = test_gen.filenames\n",
        "\n",
        "    # Get the ground truth from generator\n",
        "    ground_truth = test_gen.classes\n",
        "\n",
        "    # Get the dictionary of classes\n",
        "    label2index = test_gen.class_indices\n",
        "\n",
        "    # Obtain the list of the classes\n",
        "    idx2label = list(label2index.keys())\n",
        "    print(\"The list of classes: \", idx2label)\n",
        "\n",
        "    # Get the class index\n",
        "    predicted_classes = np.argmax(predictions, axis=1)\n",
        "\n",
        "    errors = np.where(predicted_classes != ground_truth)[0]\n",
        "    print(\"Number of errors = {}/{}\".format(len(errors),test_gen.samples))\n",
        "    \n",
        "    return idx2label, errors, fnames\n",
        "\n",
        "\n",
        "# Utility function for visualization of the errors\n",
        "def show_errors(idx2label, errors, predictions, fnames, directory):\n",
        "    # Show the errors\n",
        "    for i in range(len(errors)):\n",
        "        pred_class = np.argmax(predictions[errors[i]])\n",
        "        pred_label = idx2label[pred_class]\n",
        "\n",
        "        title = 'Original label:{}, Prediction :{}, confidence : {:.3f}'.format(\n",
        "            fnames[errors[i]].split('/')[0],\n",
        "            pred_label,\n",
        "            predictions[errors[i]][pred_class])\n",
        "\n",
        "        # original = load_img('{}/{}'.format(validation_dir,fnames[errors[i]]))\n",
        "        img = mpimg.imread('{}/{}'.format(directory,fnames[errors[i]]))\n",
        "        \n",
        "        plt.figure(figsize=[7,7])\n",
        "        plt.axis('off')\n",
        "        plt.title(title)\n",
        "        # plt.imshow(original)\n",
        "        plt.imshow(img) \n",
        "        plt.show()\n",
        "\n",
        "# Get the predictions from the model using the generator\n",
        "predictions = model.predict(test_generator, steps= test_steps_per_epoch)\n",
        "\n",
        "dir = test_dir\n",
        "\n",
        "# Run the function to get the list of classes and errors\n",
        "idx2label, errors, fnames = obtain_errors(test_generator, predictions)\n",
        "\n",
        "# Run the function to illustrate the error cases\n",
        "show_errors(idx2label, errors, predictions, fnames, dir)"
      ],
      "execution_count": 55,
      "outputs": [
        {
          "output_type": "stream",
          "text": [
            "The list of classes:  ['covid', 'normal']\n",
            "Number of errors = 0/64\n"
          ],
          "name": "stdout"
        }
      ]
    },
    {
      "cell_type": "code",
      "metadata": {
        "id": "as-xRcM6o5V0",
        "colab_type": "code",
        "colab": {}
      },
      "source": [
        ""
      ],
      "execution_count": null,
      "outputs": []
    },
    {
      "cell_type": "code",
      "metadata": {
        "id": "uJA5O2FOqKBp",
        "colab_type": "code",
        "colab": {
          "base_uri": "https://localhost:8080/",
          "height": 52
        },
        "outputId": "4bf5e1a0-f0c6-4e65-cfa1-73a861c73228"
      },
      "source": [
        "#Saving and exportingmodel\n",
        "\n",
        "import tensorflow as tf\n",
        "\n",
        "model.save('model_covid_binary_mobilenet.hdf5')\n",
        "\n",
        "model_loaded = tf.keras.models.load_model('model_covid_binary_mobilenet.hdf5')\n",
        "\n",
        "# Save the model\n",
        "export_dir = \"/tmp/test_saved_model\"\n",
        "tf.saved_model.save(model_loaded, export_dir)\n",
        "\n",
        "#Converting keras model into tflite\n",
        "converter = tf.lite.TFLiteConverter.from_saved_model(export_dir)\n",
        "converter.optimizations = [tf.lite.Optimize.DEFAULT]\n",
        "tflite_model = converter.convert()\n",
        "tflite_model_file = 'converted_model_covid_binary_mobilenet.tflite'\n",
        "\n",
        "with open(tflite_model_file, \"wb\") as f:\n",
        "    f.write(tflite_model)"
      ],
      "execution_count": 59,
      "outputs": [
        {
          "output_type": "stream",
          "text": [
            "INFO:tensorflow:Assets written to: /tmp/test_saved_model/assets\n"
          ],
          "name": "stdout"
        },
        {
          "output_type": "stream",
          "text": [
            "INFO:tensorflow:Assets written to: /tmp/test_saved_model/assets\n"
          ],
          "name": "stderr"
        }
      ]
    },
    {
      "cell_type": "code",
      "metadata": {
        "id": "4XODcXOw1PHN",
        "colab_type": "code",
        "colab": {
          "base_uri": "https://localhost:8080/",
          "height": 1000
        },
        "outputId": "42dbdf26-69d6-4864-9fb2-a2d68fba07bc"
      },
      "source": [
        "!zip -r ./test_images.zip ./data/test"
      ],
      "execution_count": 65,
      "outputs": [
        {
          "output_type": "stream",
          "text": [
            "  adding: data/test/ (stored 0%)\n",
            "  adding: data/test/normal/ (stored 0%)\n",
            "  adding: data/test/normal/NORMAL2-IM-0929-0001.jpeg (deflated 1%)\n",
            "  adding: data/test/normal/IM-0697-0001.jpeg (deflated 1%)\n",
            "  adding: data/test/normal/IM-0347-0001.jpeg (deflated 1%)\n",
            "  adding: data/test/normal/IM-0593-0001.jpeg (deflated 1%)\n",
            "  adding: data/test/normal/NORMAL2-IM-1242-0001.jpeg (deflated 1%)\n",
            "  adding: data/test/normal/IM-0224-0001.jpeg (deflated 0%)\n",
            "  adding: data/test/normal/IM-0180-0001.jpeg (deflated 0%)\n",
            "  adding: data/test/normal/NORMAL2-IM-0633-0001.jpeg (deflated 1%)\n",
            "  adding: data/test/normal/IM-0714-0001.jpeg (deflated 1%)\n",
            "  adding: data/test/normal/NORMAL2-IM-0618-0001.jpeg (deflated 1%)\n",
            "  adding: data/test/normal/NORMAL2-IM-1350-0001.jpeg (deflated 1%)\n",
            "  adding: data/test/normal/IM-0345-0001.jpeg (deflated 0%)\n",
            "  adding: data/test/normal/NORMAL2-IM-1067-0001-0001.jpeg (deflated 6%)\n",
            "  adding: data/test/normal/NORMAL2-IM-0642-0001.jpeg (deflated 1%)\n",
            "  adding: data/test/normal/NORMAL2-IM-1332-0001.jpeg (deflated 1%)\n",
            "  adding: data/test/normal/NORMAL2-IM-1016-0001.jpeg (deflated 1%)\n",
            "  adding: data/test/normal/NORMAL2-IM-0975-0001.jpeg (deflated 0%)\n",
            "  adding: data/test/normal/IM-0221-0001.jpeg (deflated 0%)\n",
            "  adding: data/test/normal/NORMAL2-IM-1020-0001-0001.jpeg (deflated 1%)\n",
            "  adding: data/test/normal/IM-0382-0001.jpeg (deflated 1%)\n",
            "  adding: data/test/normal/IM-0372-0001.jpeg (deflated 1%)\n",
            "  adding: data/test/normal/IM-0306-0001.jpeg (deflated 1%)\n",
            "  adding: data/test/normal/NORMAL2-IM-0579-0001.jpeg (deflated 1%)\n",
            "  adding: data/test/normal/IM-0474-0001.jpeg (deflated 1%)\n",
            "  adding: data/test/normal/NORMAL2-IM-1316-0001.jpeg (deflated 0%)\n",
            "  adding: data/test/normal/NORMAL2-IM-0942-0001.jpeg (deflated 0%)\n",
            "  adding: data/test/normal/IM-0581-0001.jpeg (deflated 0%)\n",
            "  adding: data/test/normal/NORMAL2-IM-0540-0001.jpeg (deflated 1%)\n",
            "  adding: data/test/normal/NORMAL2-IM-0885-0001.jpeg (deflated 1%)\n",
            "  adding: data/test/normal/IM-0160-0001.jpeg (deflated 0%)\n",
            "  adding: data/test/normal/IM-0209-0001.jpeg (deflated 1%)\n",
            "  adding: data/test/normal/IM-0504-0001.jpeg (deflated 1%)\n",
            "  adding: data/test/covid/ (stored 0%)\n",
            "  adding: data/test/covid/1.CXRCTThoraximagesofCOVID-19fromSingapore.pdf-003-fig4a.png (deflated 2%)\n",
            "  adding: data/test/covid/nejmoa2001191_f5-PA.jpeg (deflated 3%)\n",
            "  adding: data/test/covid/1-s2.0-S1684118220300682-main.pdf-002-a2.png (deflated 1%)\n",
            "  adding: data/test/covid/8da14fff.jpg (deflated 0%)\n",
            "  adding: data/test/covid/16669_1_1.jpeg (deflated 10%)\n",
            "  adding: data/test/covid/41379_2020_536_Fig2_HTML-c1.png (deflated 0%)\n",
            "  adding: data/test/covid/extubation-8.jpg (deflated 12%)\n",
            "  adding: data/test/covid/19abe1f3.jpg (deflated 0%)\n",
            "  adding: data/test/covid/tpmd200203f2-b.png (deflated 0%)\n",
            "  adding: data/test/covid/ryct.2020200034.fig5-day4.jpeg (deflated 2%)\n",
            "  adding: data/test/covid/02b76460.jpg (deflated 0%)\n",
            "  adding: data/test/covid/covid-19-pneumonia-bilateral.jpg (deflated 1%)\n",
            "  adding: data/test/covid/16654_1_1.png (deflated 1%)\n",
            "  adding: data/test/covid/1-s2.0-S0140673620303706-fx1_lrg.jpg (deflated 0%)\n",
            "  adding: data/test/covid/covid-19-pneumonia-44-day-0.jpeg (deflated 1%)\n",
            "  adding: data/test/covid/eb8e8a5b.jpg (deflated 0%)\n",
            "  adding: data/test/covid/88de9d8c39e946abd495b37cd07d89e5-6531-0.jpg (deflated 3%)\n",
            "  adding: data/test/covid/thnov10p5641g006-c.png (deflated 1%)\n",
            "  adding: data/test/covid/ciaa199.pdf-001-a.png (deflated 1%)\n",
            "  adding: data/test/covid/all14238-fig-0001-m-c.jpg (deflated 2%)\n",
            "  adding: data/test/covid/1-s2.0-S1684118220300682-main.pdf-002-a1.png (deflated 1%)\n",
            "  adding: data/test/covid/41182_2020_203_Fig3_HTML.jpg (deflated 0%)\n",
            "  adding: data/test/covid/covid-19-caso-82-1-8.png (deflated 0%)\n",
            "  adding: data/test/covid/f0864aff.jpg (deflated 0%)\n",
            "  adding: data/test/covid/c601f50d.jpg (deflated 0%)\n",
            "  adding: data/test/covid/covid-19-pneumonia-8.jpg (deflated 11%)\n",
            "  adding: data/test/covid/0a7faa2a.jpg (deflated 0%)\n",
            "  adding: data/test/covid/1.CXRCTThoraximagesofCOVID-19fromSingapore.pdf-000-fig1b.png (deflated 1%)\n",
            "  adding: data/test/covid/10.1016-slash-j.crad.2020.04.002-b.png (deflated 0%)\n",
            "  adding: data/test/covid/b9673e89.jpg (deflated 0%)\n",
            "  adding: data/test/covid/figure1-5e75d0940b71e1b702629659-98-right.jpeg (deflated 0%)\n",
            "  adding: data/test/covid/10.1016-slash-j.anl.2020.04.002-a.png (deflated 0%)\n"
          ],
          "name": "stdout"
        }
      ]
    },
    {
      "cell_type": "code",
      "metadata": {
        "id": "-JEz7p1S1SIE",
        "colab_type": "code",
        "colab": {
          "base_uri": "https://localhost:8080/",
          "height": 17
        },
        "outputId": "d97d18d6-d983-457d-f17b-06b87a4ce380"
      },
      "source": [
        "from google.colab import files\n",
        "files.download(\"test_images.zip\")"
      ],
      "execution_count": 66,
      "outputs": [
        {
          "output_type": "display_data",
          "data": {
            "application/javascript": [
              "\n",
              "    async function download(id, filename, size) {\n",
              "      if (!google.colab.kernel.accessAllowed) {\n",
              "        return;\n",
              "      }\n",
              "      const div = document.createElement('div');\n",
              "      const label = document.createElement('label');\n",
              "      label.textContent = `Downloading \"${filename}\": `;\n",
              "      div.appendChild(label);\n",
              "      const progress = document.createElement('progress');\n",
              "      progress.max = size;\n",
              "      div.appendChild(progress);\n",
              "      document.body.appendChild(div);\n",
              "\n",
              "      const buffers = [];\n",
              "      let downloaded = 0;\n",
              "\n",
              "      const channel = await google.colab.kernel.comms.open(id);\n",
              "      // Send a message to notify the kernel that we're ready.\n",
              "      channel.send({})\n",
              "\n",
              "      for await (const message of channel.messages) {\n",
              "        // Send a message to notify the kernel that we're ready.\n",
              "        channel.send({})\n",
              "        if (message.buffers) {\n",
              "          for (const buffer of message.buffers) {\n",
              "            buffers.push(buffer);\n",
              "            downloaded += buffer.byteLength;\n",
              "            progress.value = downloaded;\n",
              "          }\n",
              "        }\n",
              "      }\n",
              "      const blob = new Blob(buffers, {type: 'application/binary'});\n",
              "      const a = document.createElement('a');\n",
              "      a.href = window.URL.createObjectURL(blob);\n",
              "      a.download = filename;\n",
              "      div.appendChild(a);\n",
              "      a.click();\n",
              "      div.remove();\n",
              "    }\n",
              "  "
            ],
            "text/plain": [
              "<IPython.core.display.Javascript object>"
            ]
          },
          "metadata": {
            "tags": []
          }
        },
        {
          "output_type": "display_data",
          "data": {
            "application/javascript": [
              "download(\"download_4e5c0c82-23fd-476d-99b6-923d439e8456\", \"test_images.zip\", 31086110)"
            ],
            "text/plain": [
              "<IPython.core.display.Javascript object>"
            ]
          },
          "metadata": {
            "tags": []
          }
        }
      ]
    },
    {
      "cell_type": "code",
      "metadata": {
        "id": "fCaG_scGTGgQ",
        "colab_type": "code",
        "colab": {
          "base_uri": "https://localhost:8080/",
          "height": 17
        },
        "outputId": "3fb7b3e6-89ab-40d8-8628-b761ee437d09"
      },
      "source": [
        "# Class labels\n",
        "from google.colab import files\n",
        "\n",
        "labels = '\\n'.join(sorted(train_generator.class_indices.keys()))\n",
        "\n",
        "with open('labels.txt', 'w') as f:\n",
        "  f.write(labels)\n",
        "  \n",
        "files.download('labels.txt')"
      ],
      "execution_count": 67,
      "outputs": [
        {
          "output_type": "display_data",
          "data": {
            "application/javascript": [
              "\n",
              "    async function download(id, filename, size) {\n",
              "      if (!google.colab.kernel.accessAllowed) {\n",
              "        return;\n",
              "      }\n",
              "      const div = document.createElement('div');\n",
              "      const label = document.createElement('label');\n",
              "      label.textContent = `Downloading \"${filename}\": `;\n",
              "      div.appendChild(label);\n",
              "      const progress = document.createElement('progress');\n",
              "      progress.max = size;\n",
              "      div.appendChild(progress);\n",
              "      document.body.appendChild(div);\n",
              "\n",
              "      const buffers = [];\n",
              "      let downloaded = 0;\n",
              "\n",
              "      const channel = await google.colab.kernel.comms.open(id);\n",
              "      // Send a message to notify the kernel that we're ready.\n",
              "      channel.send({})\n",
              "\n",
              "      for await (const message of channel.messages) {\n",
              "        // Send a message to notify the kernel that we're ready.\n",
              "        channel.send({})\n",
              "        if (message.buffers) {\n",
              "          for (const buffer of message.buffers) {\n",
              "            buffers.push(buffer);\n",
              "            downloaded += buffer.byteLength;\n",
              "            progress.value = downloaded;\n",
              "          }\n",
              "        }\n",
              "      }\n",
              "      const blob = new Blob(buffers, {type: 'application/binary'});\n",
              "      const a = document.createElement('a');\n",
              "      a.href = window.URL.createObjectURL(blob);\n",
              "      a.download = filename;\n",
              "      div.appendChild(a);\n",
              "      a.click();\n",
              "      div.remove();\n",
              "    }\n",
              "  "
            ],
            "text/plain": [
              "<IPython.core.display.Javascript object>"
            ]
          },
          "metadata": {
            "tags": []
          }
        },
        {
          "output_type": "display_data",
          "data": {
            "application/javascript": [
              "download(\"download_8dfd277d-50c9-4326-a0aa-ca4a4ca47265\", \"labels.txt\", 12)"
            ],
            "text/plain": [
              "<IPython.core.display.Javascript object>"
            ]
          },
          "metadata": {
            "tags": []
          }
        }
      ]
    }
  ]
}